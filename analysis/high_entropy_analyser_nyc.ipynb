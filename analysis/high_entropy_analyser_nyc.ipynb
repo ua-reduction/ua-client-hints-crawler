{
 "cells": [
  {
   "cell_type": "code",
   "execution_count": 2,
   "id": "ad8bc6f1",
   "metadata": {},
   "outputs": [],
   "source": [
    "import glob\n",
    "from collections import defaultdict\n",
    "from typing import DefaultDict\n",
    "from os.path import basename\n",
    "from tld import get_fld\n",
    "import pandas as pd\n",
    "import json\n",
    "from urllib.parse import urlparse\n",
    "import ipaddress\n",
    "import json\n",
    "import pickle\n",
    "import sys\n",
    "import numpy as np\n",
    "import json"
   ]
  },
  {
   "cell_type": "code",
   "execution_count": 3,
   "id": "19ab8392",
   "metadata": {},
   "outputs": [],
   "source": [
    "with open('LeakDetector/tracker_category_dict.pkl', 'rb') as handle:\n",
    "    tracker_category_dict = pickle.load(handle)\n",
    "with open('LeakDetector/category_domains.pkl', 'rb') as handle:\n",
    "    category_domains_dict = pickle.load(handle)\n",
    "with open('LeakDetector/tracker_owner_dict.pkl', 'rb') as handle:\n",
    "    tracker_owner_dict = pickle.load(handle)"
   ]
  },
  {
   "cell_type": "code",
   "execution_count": 4,
   "id": "a3d7ca24",
   "metadata": {},
   "outputs": [],
   "source": [
    "api_calls = pd.read_pickle(\"../pickles/100k_nyc_api_calls.pkl\")"
   ]
  },
  {
   "cell_type": "code",
   "execution_count": 5,
   "id": "1fa7b7f0",
   "metadata": {},
   "outputs": [
    {
     "data": {
      "text/html": [
       "<div>\n",
       "<style scoped>\n",
       "    .dataframe tbody tr th:only-of-type {\n",
       "        vertical-align: middle;\n",
       "    }\n",
       "\n",
       "    .dataframe tbody tr th {\n",
       "        vertical-align: top;\n",
       "    }\n",
       "\n",
       "    .dataframe thead th {\n",
       "        text-align: right;\n",
       "    }\n",
       "</style>\n",
       "<table border=\"1\" class=\"dataframe\">\n",
       "  <thead>\n",
       "    <tr style=\"text-align: right;\">\n",
       "      <th></th>\n",
       "      <th>site_domain</th>\n",
       "      <th>initial_url</th>\n",
       "      <th>final_url</th>\n",
       "      <th>script_url</th>\n",
       "      <th>description</th>\n",
       "      <th>access_type</th>\n",
       "      <th>arguments</th>\n",
       "      <th>frameUrl</th>\n",
       "      <th>return_value</th>\n",
       "      <th>script_domain</th>\n",
       "      <th>tracker_categories</th>\n",
       "      <th>tracker_owner</th>\n",
       "      <th>is_tracker</th>\n",
       "      <th>hostname</th>\n",
       "    </tr>\n",
       "  </thead>\n",
       "  <tbody>\n",
       "    <tr>\n",
       "      <th>0</th>\n",
       "      <td>lele247.top</td>\n",
       "      <td>https://www.pecellele247.me/</td>\n",
       "      <td>https://lele247.top/</td>\n",
       "      <td>https://files.sitestatic.net/assets/jquery/jquery-ui.js</td>\n",
       "      <td>Navigator.userAgent</td>\n",
       "      <td>get</td>\n",
       "      <td></td>\n",
       "      <td></td>\n",
       "      <td></td>\n",
       "      <td>sitestatic.net</td>\n",
       "      <td>NaN</td>\n",
       "      <td>NaN</td>\n",
       "      <td>0</td>\n",
       "      <td>www.pecellele247.me</td>\n",
       "    </tr>\n",
       "    <tr>\n",
       "      <th>1</th>\n",
       "      <td>lele247.top</td>\n",
       "      <td>https://www.pecellele247.me/</td>\n",
       "      <td>https://lele247.top/</td>\n",
       "      <td>https://files.sitestatic.net/assets/fancybox/jquery.fancybox.min.js</td>\n",
       "      <td>Navigator.userAgent</td>\n",
       "      <td>get</td>\n",
       "      <td></td>\n",
       "      <td></td>\n",
       "      <td></td>\n",
       "      <td>sitestatic.net</td>\n",
       "      <td>NaN</td>\n",
       "      <td>NaN</td>\n",
       "      <td>0</td>\n",
       "      <td>www.pecellele247.me</td>\n",
       "    </tr>\n",
       "    <tr>\n",
       "      <th>2</th>\n",
       "      <td>lele247.top</td>\n",
       "      <td>https://www.pecellele247.me/</td>\n",
       "      <td>https://lele247.top/</td>\n",
       "      <td>https://lele247.top/js/ugsports/app-desktop.js?id=007553f4ff942fcb56eb</td>\n",
       "      <td>Navigator.userAgent</td>\n",
       "      <td>get</td>\n",
       "      <td></td>\n",
       "      <td></td>\n",
       "      <td></td>\n",
       "      <td>lele247.top</td>\n",
       "      <td>NaN</td>\n",
       "      <td>NaN</td>\n",
       "      <td>0</td>\n",
       "      <td>www.pecellele247.me</td>\n",
       "    </tr>\n",
       "    <tr>\n",
       "      <th>3</th>\n",
       "      <td>lele247.top</td>\n",
       "      <td>https://www.pecellele247.me/</td>\n",
       "      <td>https://lele247.top/</td>\n",
       "      <td>https://cdn.livechatinc.com/tracking.js</td>\n",
       "      <td>Navigator.userAgent</td>\n",
       "      <td>get</td>\n",
       "      <td></td>\n",
       "      <td></td>\n",
       "      <td></td>\n",
       "      <td>livechatinc.com</td>\n",
       "      <td>Embedded Content</td>\n",
       "      <td>LiveChat</td>\n",
       "      <td>0</td>\n",
       "      <td>www.pecellele247.me</td>\n",
       "    </tr>\n",
       "    <tr>\n",
       "      <th>4</th>\n",
       "      <td>lele247.top</td>\n",
       "      <td>https://www.pecellele247.me/</td>\n",
       "      <td>https://lele247.top/</td>\n",
       "      <td>https://cdn.livechatinc.com/tracking.js</td>\n",
       "      <td>Navigator.userAgent</td>\n",
       "      <td>get</td>\n",
       "      <td></td>\n",
       "      <td></td>\n",
       "      <td></td>\n",
       "      <td>livechatinc.com</td>\n",
       "      <td>Embedded Content</td>\n",
       "      <td>LiveChat</td>\n",
       "      <td>0</td>\n",
       "      <td>www.pecellele247.me</td>\n",
       "    </tr>\n",
       "  </tbody>\n",
       "</table>\n",
       "</div>"
      ],
      "text/plain": [
       "   site_domain                   initial_url             final_url  \\\n",
       "0  lele247.top  https://www.pecellele247.me/  https://lele247.top/   \n",
       "1  lele247.top  https://www.pecellele247.me/  https://lele247.top/   \n",
       "2  lele247.top  https://www.pecellele247.me/  https://lele247.top/   \n",
       "3  lele247.top  https://www.pecellele247.me/  https://lele247.top/   \n",
       "4  lele247.top  https://www.pecellele247.me/  https://lele247.top/   \n",
       "\n",
       "                                                               script_url  \\\n",
       "0                 https://files.sitestatic.net/assets/jquery/jquery-ui.js   \n",
       "1     https://files.sitestatic.net/assets/fancybox/jquery.fancybox.min.js   \n",
       "2  https://lele247.top/js/ugsports/app-desktop.js?id=007553f4ff942fcb56eb   \n",
       "3                                 https://cdn.livechatinc.com/tracking.js   \n",
       "4                                 https://cdn.livechatinc.com/tracking.js   \n",
       "\n",
       "           description access_type arguments frameUrl return_value  \\\n",
       "0  Navigator.userAgent         get                                   \n",
       "1  Navigator.userAgent         get                                   \n",
       "2  Navigator.userAgent         get                                   \n",
       "3  Navigator.userAgent         get                                   \n",
       "4  Navigator.userAgent         get                                   \n",
       "\n",
       "     script_domain tracker_categories tracker_owner is_tracker  \\\n",
       "0   sitestatic.net                NaN           NaN          0   \n",
       "1   sitestatic.net                NaN           NaN          0   \n",
       "2      lele247.top                NaN           NaN          0   \n",
       "3  livechatinc.com   Embedded Content      LiveChat          0   \n",
       "4  livechatinc.com   Embedded Content      LiveChat          0   \n",
       "\n",
       "              hostname  \n",
       "0  www.pecellele247.me  \n",
       "1  www.pecellele247.me  \n",
       "2  www.pecellele247.me  \n",
       "3  www.pecellele247.me  \n",
       "4  www.pecellele247.me  "
      ]
     },
     "execution_count": 5,
     "metadata": {},
     "output_type": "execute_result"
    }
   ],
   "source": [
    "api_calls.head()"
   ]
  },
  {
   "cell_type": "code",
   "execution_count": 6,
   "id": "60f3b92d",
   "metadata": {},
   "outputs": [],
   "source": [
    "fp_attempts = pd.read_pickle(\"../pickles/100k_nyc_fp_attempts.pkl\")"
   ]
  },
  {
   "cell_type": "code",
   "execution_count": 64,
   "id": "39bf2ea0",
   "metadata": {},
   "outputs": [
    {
     "data": {
      "text/html": [
       "<div>\n",
       "<style scoped>\n",
       "    .dataframe tbody tr th:only-of-type {\n",
       "        vertical-align: middle;\n",
       "    }\n",
       "\n",
       "    .dataframe tbody tr th {\n",
       "        vertical-align: top;\n",
       "    }\n",
       "\n",
       "    .dataframe thead th {\n",
       "        text-align: right;\n",
       "    }\n",
       "</style>\n",
       "<table border=\"1\" class=\"dataframe\">\n",
       "  <thead>\n",
       "    <tr style=\"text-align: right;\">\n",
       "      <th></th>\n",
       "      <th>script_url</th>\n",
       "      <th>fp_type</th>\n",
       "      <th>initial_url</th>\n",
       "      <th>final_url</th>\n",
       "      <th>site_domain</th>\n",
       "      <th>script_domain</th>\n",
       "      <th>is_third_party</th>\n",
       "      <th>sc_accessed_ua</th>\n",
       "      <th>frame_url</th>\n",
       "      <th>tracker_categories</th>\n",
       "      <th>tracker_owner</th>\n",
       "      <th>is_tracker</th>\n",
       "      <th>hostname</th>\n",
       "    </tr>\n",
       "  </thead>\n",
       "  <tbody>\n",
       "    <tr>\n",
       "      <th>0</th>\n",
       "      <td>https://js.ad-score.com/x.html?v=1846275&amp;pid=1000177</td>\n",
       "      <td>canvas</td>\n",
       "      <td>http://www.panorama.com.al/</td>\n",
       "      <td>http://www.panorama.com.al/</td>\n",
       "      <td>panorama.com.al</td>\n",
       "      <td>ad-score.com</td>\n",
       "      <td>True</td>\n",
       "      <td>False</td>\n",
       "      <td>False</td>\n",
       "      <td>NaN</td>\n",
       "      <td>Adscore</td>\n",
       "      <td>1</td>\n",
       "      <td>www.panorama.com.al</td>\n",
       "    </tr>\n",
       "    <tr>\n",
       "      <th>1</th>\n",
       "      <td>https://c.adsco.re/</td>\n",
       "      <td>webrtc</td>\n",
       "      <td>https://asiangay.tv/</td>\n",
       "      <td>https://asiangay.tv/</td>\n",
       "      <td>asiangay.tv</td>\n",
       "      <td>adsco.re</td>\n",
       "      <td>True</td>\n",
       "      <td>True</td>\n",
       "      <td>True</td>\n",
       "      <td>Ad Motivated Tracking Ad Fraud Analytics Audience Measurement</td>\n",
       "      <td>Adscore</td>\n",
       "      <td>1</td>\n",
       "      <td>asiangay.tv</td>\n",
       "    </tr>\n",
       "    <tr>\n",
       "      <th>2</th>\n",
       "      <td>https://c.adsco.re/</td>\n",
       "      <td>canvas</td>\n",
       "      <td>https://asiangay.tv/</td>\n",
       "      <td>https://asiangay.tv/</td>\n",
       "      <td>asiangay.tv</td>\n",
       "      <td>adsco.re</td>\n",
       "      <td>True</td>\n",
       "      <td>True</td>\n",
       "      <td>True</td>\n",
       "      <td>Ad Motivated Tracking Ad Fraud Analytics Audience Measurement</td>\n",
       "      <td>Adscore</td>\n",
       "      <td>1</td>\n",
       "      <td>asiangay.tv</td>\n",
       "    </tr>\n",
       "    <tr>\n",
       "      <th>3</th>\n",
       "      <td>https://www.molottery.com/r-ill-What-went-fighd-blood-ter-Ented-him-and-I-</td>\n",
       "      <td>canvas_font</td>\n",
       "      <td>https://www.molottery.com/</td>\n",
       "      <td>https://www.molottery.com/</td>\n",
       "      <td>molottery.com</td>\n",
       "      <td>molottery.com</td>\n",
       "      <td>False</td>\n",
       "      <td>False</td>\n",
       "      <td>False</td>\n",
       "      <td>NaN</td>\n",
       "      <td>NaN</td>\n",
       "      <td>0</td>\n",
       "      <td>www.molottery.com</td>\n",
       "    </tr>\n",
       "    <tr>\n",
       "      <th>4</th>\n",
       "      <td>https://www.molottery.com/r-ill-What-went-fighd-blood-ter-Ented-him-and-I-</td>\n",
       "      <td>canvas</td>\n",
       "      <td>https://www.molottery.com/</td>\n",
       "      <td>https://www.molottery.com/</td>\n",
       "      <td>molottery.com</td>\n",
       "      <td>molottery.com</td>\n",
       "      <td>False</td>\n",
       "      <td>False</td>\n",
       "      <td>False</td>\n",
       "      <td>NaN</td>\n",
       "      <td>NaN</td>\n",
       "      <td>0</td>\n",
       "      <td>www.molottery.com</td>\n",
       "    </tr>\n",
       "  </tbody>\n",
       "</table>\n",
       "</div>"
      ],
      "text/plain": [
       "                                                                   script_url  \\\n",
       "0                        https://js.ad-score.com/x.html?v=1846275&pid=1000177   \n",
       "1                                                         https://c.adsco.re/   \n",
       "2                                                         https://c.adsco.re/   \n",
       "3  https://www.molottery.com/r-ill-What-went-fighd-blood-ter-Ented-him-and-I-   \n",
       "4  https://www.molottery.com/r-ill-What-went-fighd-blood-ter-Ented-him-and-I-   \n",
       "\n",
       "       fp_type                  initial_url                    final_url  \\\n",
       "0       canvas  http://www.panorama.com.al/  http://www.panorama.com.al/   \n",
       "1       webrtc         https://asiangay.tv/         https://asiangay.tv/   \n",
       "2       canvas         https://asiangay.tv/         https://asiangay.tv/   \n",
       "3  canvas_font   https://www.molottery.com/   https://www.molottery.com/   \n",
       "4       canvas   https://www.molottery.com/   https://www.molottery.com/   \n",
       "\n",
       "       site_domain  script_domain  is_third_party  sc_accessed_ua  frame_url  \\\n",
       "0  panorama.com.al   ad-score.com            True           False      False   \n",
       "1      asiangay.tv       adsco.re            True            True       True   \n",
       "2      asiangay.tv       adsco.re            True            True       True   \n",
       "3    molottery.com  molottery.com           False           False      False   \n",
       "4    molottery.com  molottery.com           False           False      False   \n",
       "\n",
       "                                              tracker_categories  \\\n",
       "0                                                            NaN   \n",
       "1  Ad Motivated Tracking Ad Fraud Analytics Audience Measurement   \n",
       "2  Ad Motivated Tracking Ad Fraud Analytics Audience Measurement   \n",
       "3                                                            NaN   \n",
       "4                                                            NaN   \n",
       "\n",
       "  tracker_owner is_tracker             hostname  \n",
       "0       Adscore          1  www.panorama.com.al  \n",
       "1       Adscore          1          asiangay.tv  \n",
       "2       Adscore          1          asiangay.tv  \n",
       "3           NaN          0    www.molottery.com  \n",
       "4           NaN          0    www.molottery.com  "
      ]
     },
     "execution_count": 64,
     "metadata": {},
     "output_type": "execute_result"
    }
   ],
   "source": [
    "fp_attempts.head()"
   ]
  },
  {
   "cell_type": "markdown",
   "id": "1ef211b6",
   "metadata": {},
   "source": [
    "# Crawl Statistics:"
   ]
  },
  {
   "cell_type": "code",
   "execution_count": 66,
   "id": "c034e985",
   "metadata": {},
   "outputs": [],
   "source": [
    "TOTAL_NUM_SUCC_SITES = 89763"
   ]
  },
  {
   "cell_type": "markdown",
   "id": "f472d922",
   "metadata": {},
   "source": [
    "# Sites where high entropy API was called"
   ]
  },
  {
   "cell_type": "code",
   "execution_count": 67,
   "id": "6bfebbfa",
   "metadata": {},
   "outputs": [],
   "source": [
    "high_entropy_api_calls = api_calls[(api_calls.description=='NavigatorUAData.getHighEntropyValues')]"
   ]
  },
  {
   "cell_type": "code",
   "execution_count": 68,
   "id": "95218d05",
   "metadata": {},
   "outputs": [
    {
     "data": {
      "text/plain": [
       "53148"
      ]
     },
     "execution_count": 68,
     "metadata": {},
     "output_type": "execute_result"
    }
   ],
   "source": [
    "high_entropy_api_calls.hostname.nunique()"
   ]
  },
  {
   "cell_type": "markdown",
   "id": "2d676025",
   "metadata": {},
   "source": [
    "# Take a look at the third parties calling high entropy API"
   ]
  },
  {
   "cell_type": "code",
   "execution_count": 69,
   "id": "696e4377",
   "metadata": {},
   "outputs": [],
   "source": [
    "third_party_high_entropy_api_calls = high_entropy_api_calls[(high_entropy_api_calls.site_domain!=high_entropy_api_calls.script_domain)]"
   ]
  },
  {
   "cell_type": "markdown",
   "id": "9dbe2579",
   "metadata": {},
   "source": [
    "# Number of sites where high entropy API was called by a third party:"
   ]
  },
  {
   "cell_type": "code",
   "execution_count": 314,
   "id": "762e0409",
   "metadata": {
    "scrolled": true
   },
   "outputs": [
    {
     "data": {
      "text/plain": [
       "52392"
      ]
     },
     "execution_count": 314,
     "metadata": {},
     "output_type": "execute_result"
    }
   ],
   "source": [
    "third_party_high_entropy_api_calls.hostname.nunique()"
   ]
  },
  {
   "cell_type": "code",
   "execution_count": 71,
   "id": "9473b6d8",
   "metadata": {},
   "outputs": [
    {
     "name": "stdout",
     "output_type": "stream",
     "text": [
      "PERCENTAGE:  0.5836703318739347\n"
     ]
    }
   ],
   "source": [
    "print('PERCENTAGE: ', third_party_high_entropy_api_calls.hostname.nunique()/TOTAL_NUM_SUCC_SITES)"
   ]
  },
  {
   "cell_type": "markdown",
   "id": "be9613fc",
   "metadata": {},
   "source": [
    "# These domains are the most popular third party domains calling this high entropy api"
   ]
  },
  {
   "cell_type": "code",
   "execution_count": 72,
   "id": "4a2bc26c",
   "metadata": {},
   "outputs": [
    {
     "data": {
      "text/plain": [
       "googletagmanager.com     32594\n",
       "googlesyndication.com     7209\n",
       "doubleclick.net           4401\n",
       "googletagservices.com     1650\n",
       "googleadservices.com       753\n",
       "quantserve.com             733\n",
       "sharethis.com              453\n",
       "taboola.com                382\n",
       "clarity.ms                 230\n",
       "gemius.pl                  198\n",
       "gstatic.com                192\n",
       "statcounter.com            162\n",
       "wpadmngr.com               159\n",
       "tynt.com                   150\n",
       "godpvqnszo.com             123\n",
       "adsco.re                   123\n",
       "sc-static.net              111\n",
       "adocean.pl                  81\n",
       "heapanalytics.com           81\n",
       "pubmatic.com                73\n",
       "Name: script_domain, dtype: int64"
      ]
     },
     "execution_count": 72,
     "metadata": {},
     "output_type": "execute_result"
    }
   ],
   "source": [
    "third_party_high_entropy_api_calls.drop_duplicates(['hostname']).script_domain.value_counts().head(20)"
   ]
  },
  {
   "cell_type": "code",
   "execution_count": 161,
   "id": "6e24263d",
   "metadata": {},
   "outputs": [],
   "source": [
    "distinct_third_party_calls = third_party_high_entropy_api_calls.drop_duplicates(['hostname', 'script_url'])"
   ]
  },
  {
   "cell_type": "code",
   "execution_count": 162,
   "id": "80c54196",
   "metadata": {},
   "outputs": [],
   "source": [
    "categories_num_dict = defaultdict(int)\n",
    "for i,req_domain in distinct_third_party_calls.script_domain.items():\n",
    "    for category, domains in category_domains_dict.items():\n",
    "        if req_domain in  domains:\n",
    "            categories_num_dict[category]+=1"
   ]
  },
  {
   "cell_type": "code",
   "execution_count": 163,
   "id": "41aa5c6a",
   "metadata": {},
   "outputs": [
    {
     "data": {
      "text/plain": [
       "[('Advertising', 93915),\n",
       " ('Ad Motivated Tracking', 92671),\n",
       " ('Audience Measurement', 67486),\n",
       " ('Third-Party Analytics Marketing', 61241),\n",
       " ('Analytics', 60443),\n",
       " ('Action Pixels', 18405),\n",
       " ('Embedded Content', 7514),\n",
       " ('CDN', 6499),\n",
       " ('Social - Share', 2576),\n",
       " ('Ad Fraud', 2132),\n",
       " ('Session Replay', 186),\n",
       " ('Badge', 141),\n",
       " ('Online Payment', 13),\n",
       " ('SSO', 13),\n",
       " ('Social - Comment', 1),\n",
       " ('Social Network', 1)]"
      ]
     },
     "execution_count": 163,
     "metadata": {},
     "output_type": "execute_result"
    }
   ],
   "source": [
    "sorted(categories_num_dict.items(), key=lambda x:x[1], reverse=True)"
   ]
  },
  {
   "cell_type": "code",
   "execution_count": 291,
   "id": "876793e1",
   "metadata": {},
   "outputs": [
    {
     "data": {
      "text/plain": [
       "114489"
      ]
     },
     "execution_count": 291,
     "metadata": {},
     "output_type": "execute_result"
    }
   ],
   "source": [
    "len(distinct_third_party_calls)"
   ]
  },
  {
   "cell_type": "markdown",
   "id": "27a7cf63",
   "metadata": {},
   "source": [
    "# Now we will only consider calls by a tracker domains:"
   ]
  },
  {
   "cell_type": "code",
   "execution_count": 124,
   "id": "7b712e31",
   "metadata": {},
   "outputs": [],
   "source": [
    "tracker_high_entropy_api_calls = third_party_high_entropy_api_calls[third_party_high_entropy_api_calls.is_tracker=='1']"
   ]
  },
  {
   "cell_type": "markdown",
   "id": "0398ba6d",
   "metadata": {},
   "source": [
    "# Number of sites where high entropy API was called by a tracker domain:"
   ]
  },
  {
   "cell_type": "code",
   "execution_count": 125,
   "id": "66d27a1b",
   "metadata": {},
   "outputs": [
    {
     "data": {
      "text/plain": [
       "51630"
      ]
     },
     "execution_count": 125,
     "metadata": {},
     "output_type": "execute_result"
    }
   ],
   "source": [
    "tracker_high_entropy_api_calls.hostname.nunique()"
   ]
  },
  {
   "cell_type": "code",
   "execution_count": 126,
   "id": "9c658c23",
   "metadata": {},
   "outputs": [
    {
     "name": "stdout",
     "output_type": "stream",
     "text": [
      "PERCENTAGE:  0.5751813107850673\n"
     ]
    }
   ],
   "source": [
    "print('PERCENTAGE: ', tracker_high_entropy_api_calls.hostname.nunique()/TOTAL_NUM_SUCC_SITES)"
   ]
  },
  {
   "cell_type": "markdown",
   "id": "3b73e626",
   "metadata": {},
   "source": [
    "# Most popular tracker domains calling high entropy API:"
   ]
  },
  {
   "cell_type": "code",
   "execution_count": 127,
   "id": "accad73d",
   "metadata": {},
   "outputs": [
    {
     "data": {
      "text/plain": [
       "googletagmanager.com     28929\n",
       "googlesyndication.com     6843\n",
       "doubleclick.net           3633\n",
       "googletagservices.com     1414\n",
       "googleadservices.com       673\n",
       "quantserve.com             437\n",
       "taboola.com                330\n",
       "clarity.ms                 192\n",
       "statcounter.com            161\n",
       "wpadmngr.com               152\n",
       "adsco.re                   121\n",
       "godpvqnszo.com             117\n",
       "gemius.pl                  113\n",
       "tynt.com                   107\n",
       "sc-static.net               96\n",
       "adocean.pl                  74\n",
       "hhbypdoecp.com              55\n",
       "heapanalytics.com           51\n",
       "browser-update.org          47\n",
       "pubmatic.com                44\n",
       "Name: script_domain, dtype: int64"
      ]
     },
     "execution_count": 127,
     "metadata": {},
     "output_type": "execute_result"
    }
   ],
   "source": [
    "tracker_high_entropy_api_calls.drop_duplicates(['site_domain']).script_domain.value_counts().head(20)"
   ]
  },
  {
   "cell_type": "markdown",
   "id": "15c54dd5",
   "metadata": {},
   "source": [
    "# Trackers' Categories:"
   ]
  },
  {
   "cell_type": "code",
   "execution_count": 233,
   "id": "ffa6fdca",
   "metadata": {},
   "outputs": [],
   "source": [
    "distinct_reqs = tracker_high_entropy_api_calls.drop_duplicates(['hostname','script_url'])"
   ]
  },
  {
   "cell_type": "code",
   "execution_count": 234,
   "id": "a9d076ef",
   "metadata": {},
   "outputs": [],
   "source": [
    "categories_num_dict = defaultdict(int)\n",
    "for i,req_domain in distinct_reqs.script_domain.items():\n",
    "    for category, domains in category_domains_dict.items():\n",
    "        if req_domain in  domains:\n",
    "            categories_num_dict[category]+=1"
   ]
  },
  {
   "cell_type": "code",
   "execution_count": 235,
   "id": "2224cfff",
   "metadata": {},
   "outputs": [
    {
     "data": {
      "text/plain": [
       "[('Advertising', 92940),\n",
       " ('Ad Motivated Tracking', 91712),\n",
       " ('Audience Measurement', 67115),\n",
       " ('Third-Party Analytics Marketing', 60290),\n",
       " ('Analytics', 59937),\n",
       " ('Action Pixels', 18387),\n",
       " ('Embedded Content', 4934),\n",
       " ('CDN', 4644),\n",
       " ('Ad Fraud', 2132),\n",
       " ('Social - Share', 465),\n",
       " ('Session Replay', 185),\n",
       " ('Badge', 128)]"
      ]
     },
     "execution_count": 235,
     "metadata": {},
     "output_type": "execute_result"
    }
   ],
   "source": [
    "sorted(categories_num_dict.items(), key=lambda x:x[1],reverse=True)"
   ]
  },
  {
   "cell_type": "code",
   "execution_count": 240,
   "id": "3c8308a1",
   "metadata": {},
   "outputs": [],
   "source": [
    "categories_num_dict = defaultdict(set)\n",
    "for index, row in distinct_third_party_calls.iterrows():\n",
    "    script_domain = row['script_domain']\n",
    "    site_domain = row['site_domain']\n",
    "    for category, domains in category_domains_dict.items():\n",
    "        if script_domain in  domains:\n",
    "            categories_num_dict[category].add(site_domain)"
   ]
  },
  {
   "cell_type": "code",
   "execution_count": 241,
   "id": "00529e77",
   "metadata": {},
   "outputs": [],
   "source": [
    "sorted_list = sorted(categories_num_dict.items(), key=lambda x:len(x[1]),reverse=True)"
   ]
  },
  {
   "cell_type": "code",
   "execution_count": 242,
   "id": "f0d2a263",
   "metadata": {
    "scrolled": true
   },
   "outputs": [
    {
     "name": "stdout",
     "output_type": "stream",
     "text": [
      "Ad Motivated Tracking 44084\n",
      "Advertising 43976\n",
      "Audience Measurement 40901\n",
      "Third-Party Analytics Marketing 40491\n",
      "Analytics 40347\n",
      "Action Pixels 13224\n",
      "Embedded Content 4523\n",
      "CDN 4342\n",
      "Social - Share 2338\n",
      "Ad Fraud 1339\n",
      "Session Replay 132\n",
      "Badge 124\n",
      "Online Payment 13\n",
      "SSO 13\n",
      "Social - Comment 1\n",
      "Social Network 1\n"
     ]
    }
   ],
   "source": [
    "for i in sorted_list:\n",
    "    print(i[0],len(i[1]))"
   ]
  },
  {
   "cell_type": "code",
   "execution_count": 309,
   "id": "ffe9dbb0",
   "metadata": {},
   "outputs": [
    {
     "data": {
      "text/plain": [
       "0.9388387074637364"
      ]
     },
     "execution_count": 309,
     "metadata": {},
     "output_type": "execute_result"
    }
   ],
   "source": [
    "len(tracker_high_entropy_api_calls.drop_duplicates(['hostname','script_url']))/len(high_entropy_api_calls.drop_duplicates(['hostname','script_url']))"
   ]
  },
  {
   "cell_type": "markdown",
   "id": "00200a23",
   "metadata": {},
   "source": [
    "# Number of distinct sites where we detected FPing"
   ]
  },
  {
   "cell_type": "code",
   "execution_count": 172,
   "id": "c3cde1c2",
   "metadata": {},
   "outputs": [
    {
     "data": {
      "text/plain": [
       "7315"
      ]
     },
     "execution_count": 172,
     "metadata": {},
     "output_type": "execute_result"
    }
   ],
   "source": [
    "fp_attempts.hostname.nunique()"
   ]
  },
  {
   "cell_type": "code",
   "execution_count": 295,
   "id": "07cda13b",
   "metadata": {},
   "outputs": [
    {
     "data": {
      "text/plain": [
       "4689"
      ]
     },
     "execution_count": 295,
     "metadata": {},
     "output_type": "execute_result"
    }
   ],
   "source": [
    "fp_attempts.script_url.nunique()"
   ]
  },
  {
   "cell_type": "code",
   "execution_count": 296,
   "id": "219df37f",
   "metadata": {},
   "outputs": [],
   "source": [
    "third_party_fp_attempts = fp_attempts[fp_attempts.script_domain!=fp_attempts.site_domain]"
   ]
  },
  {
   "cell_type": "code",
   "execution_count": 297,
   "id": "63551df0",
   "metadata": {},
   "outputs": [
    {
     "data": {
      "text/plain": [
       "2190"
      ]
     },
     "execution_count": 297,
     "metadata": {},
     "output_type": "execute_result"
    }
   ],
   "source": [
    "third_party_fp_attempts.script_url.nunique()"
   ]
  },
  {
   "cell_type": "code",
   "execution_count": 301,
   "id": "dc073abe",
   "metadata": {},
   "outputs": [],
   "source": [
    "tracker_fp_attempts = third_party_fp_attempts[third_party_fp_attempts.is_tracker=='1']"
   ]
  },
  {
   "cell_type": "code",
   "execution_count": 302,
   "id": "c3551f13",
   "metadata": {},
   "outputs": [
    {
     "data": {
      "text/plain": [
       "784"
      ]
     },
     "execution_count": 302,
     "metadata": {},
     "output_type": "execute_result"
    }
   ],
   "source": [
    "tracker_fp_attempts.script_url.nunique()"
   ]
  },
  {
   "cell_type": "markdown",
   "id": "722eb5c8",
   "metadata": {},
   "source": [
    "# Number of distinct sites where we detected FPing by third-party"
   ]
  },
  {
   "cell_type": "code",
   "execution_count": 175,
   "id": "2351fe52",
   "metadata": {},
   "outputs": [],
   "source": [
    "third_party_fp_attempts = fp_attempts[fp_attempts.site_domain!=fp_attempts.script_domain]"
   ]
  },
  {
   "cell_type": "code",
   "execution_count": 176,
   "id": "595164da",
   "metadata": {},
   "outputs": [
    {
     "data": {
      "text/plain": [
       "5137"
      ]
     },
     "execution_count": 176,
     "metadata": {},
     "output_type": "execute_result"
    }
   ],
   "source": [
    "third_party_fp_attempts.hostname.nunique()"
   ]
  },
  {
   "cell_type": "markdown",
   "id": "ea242ce0",
   "metadata": {},
   "source": [
    "# Number of distinct sites where we detected FPing by tracker domain"
   ]
  },
  {
   "cell_type": "code",
   "execution_count": 177,
   "id": "b8bb1eb1",
   "metadata": {},
   "outputs": [],
   "source": [
    "tracker_fp_attempts = third_party_fp_attempts[third_party_fp_attempts.is_tracker=='1']"
   ]
  },
  {
   "cell_type": "code",
   "execution_count": 178,
   "id": "6ae2e3ea",
   "metadata": {},
   "outputs": [
    {
     "data": {
      "text/plain": [
       "2685"
      ]
     },
     "execution_count": 178,
     "metadata": {},
     "output_type": "execute_result"
    }
   ],
   "source": [
    "tracker_fp_attempts.hostname.nunique()"
   ]
  },
  {
   "cell_type": "markdown",
   "id": "0903661e",
   "metadata": {},
   "source": [
    "# Let's take a look at only FP attempts(also using high entropy API):"
   ]
  },
  {
   "cell_type": "code",
   "execution_count": 179,
   "id": "c123e058",
   "metadata": {},
   "outputs": [],
   "source": [
    "fp_attempts_with_high_entropy_api = fp_attempts[fp_attempts.sc_accessed_ua]"
   ]
  },
  {
   "cell_type": "code",
   "execution_count": 290,
   "id": "2c9428b9",
   "metadata": {},
   "outputs": [
    {
     "data": {
      "text/plain": [
       "545"
      ]
     },
     "execution_count": 290,
     "metadata": {},
     "output_type": "execute_result"
    }
   ],
   "source": [
    "fp_attempts_with_high_entropy_api.script_url.nunique()"
   ]
  },
  {
   "cell_type": "code",
   "execution_count": 305,
   "id": "89ee3627",
   "metadata": {},
   "outputs": [],
   "source": [
    "third_party_fp_attempts_with_high_entropy_api = fp_attempts[(fp_attempts.script_domain!=fp_attempts.site_domain)&(fp_attempts.sc_accessed_ua)]"
   ]
  },
  {
   "cell_type": "code",
   "execution_count": 306,
   "id": "e2525b1b",
   "metadata": {},
   "outputs": [
    {
     "data": {
      "text/plain": [
       "274"
      ]
     },
     "execution_count": 306,
     "metadata": {},
     "output_type": "execute_result"
    }
   ],
   "source": [
    "third_party_fp_attempts_with_high_entropy_api.script_url.nunique()"
   ]
  },
  {
   "cell_type": "code",
   "execution_count": 307,
   "id": "bdc813f8",
   "metadata": {},
   "outputs": [],
   "source": [
    "tracker_fp_attempts_with_high_entropy_api = third_party_fp_attempts_with_high_entropy_api[third_party_fp_attempts_with_high_entropy_api.is_tracker=='1']"
   ]
  },
  {
   "cell_type": "code",
   "execution_count": 308,
   "id": "a4f894a9",
   "metadata": {},
   "outputs": [
    {
     "data": {
      "text/plain": [
       "157"
      ]
     },
     "execution_count": 308,
     "metadata": {},
     "output_type": "execute_result"
    }
   ],
   "source": [
    "tracker_fp_attempts_with_high_entropy_api.script_url.nunique()"
   ]
  },
  {
   "cell_type": "markdown",
   "id": "66010b6a",
   "metadata": {},
   "source": [
    "# These are distinct sites where high entopy API was called and FPing collected:"
   ]
  },
  {
   "cell_type": "code",
   "execution_count": 190,
   "id": "5d058170",
   "metadata": {},
   "outputs": [
    {
     "data": {
      "text/plain": [
       "1337"
      ]
     },
     "execution_count": 190,
     "metadata": {},
     "output_type": "execute_result"
    }
   ],
   "source": [
    "len(fp_attempts_with_high_entropy_api.drop_duplicates('hostname'))"
   ]
  },
  {
   "cell_type": "markdown",
   "id": "01a70a52",
   "metadata": {},
   "source": [
    "# These are distinct sites where high entopy API was called and FPing collected by third party:"
   ]
  },
  {
   "cell_type": "code",
   "execution_count": 181,
   "id": "28cd0d51",
   "metadata": {},
   "outputs": [],
   "source": [
    "third_party_fp_at_with_high_entropy_api = fp_attempts_with_high_entropy_api[fp_attempts_with_high_entropy_api.script_domain!=fp_attempts_with_high_entropy_api.site_domain]"
   ]
  },
  {
   "cell_type": "code",
   "execution_count": 182,
   "id": "c11c686d",
   "metadata": {},
   "outputs": [
    {
     "data": {
      "text/plain": [
       "1043"
      ]
     },
     "execution_count": 182,
     "metadata": {},
     "output_type": "execute_result"
    }
   ],
   "source": [
    "len(third_party_fp_at_with_high_entropy_api.drop_duplicates('hostname'))"
   ]
  },
  {
   "cell_type": "code",
   "execution_count": 183,
   "id": "49a10b3a",
   "metadata": {},
   "outputs": [
    {
     "data": {
      "text/plain": [
       "1                      asiangay.tv\n",
       "14     www.malayalamsexstories.one\n",
       "26                   movieplay.sbs\n",
       "28                       omaha.com\n",
       "44             www.hdfilmlenta.com\n",
       "47                     xnxxcom.xyz\n",
       "49                      xvedio.fun\n",
       "51            privatehomeclips.com\n",
       "53                        x-xx.pro\n",
       "61       www.telugusexstories.blog\n",
       "94                   xn--c1aem.org\n",
       "113                   siapcoli.xyz\n",
       "124              www.xxxmovies.pro\n",
       "143                aflamincest.com\n",
       "174                     vietsex.me\n",
       "177                    masahub.net\n",
       "181                animalzoosex.me\n",
       "200                    zoosuck.com\n",
       "223                 filmeporno.xxx\n",
       "230                   hornyxxx.win\n",
       "Name: hostname, dtype: object"
      ]
     },
     "execution_count": 183,
     "metadata": {},
     "output_type": "execute_result"
    }
   ],
   "source": [
    "third_party_fp_at_with_high_entropy_api.drop_duplicates('hostname').hostname.head(20)"
   ]
  },
  {
   "cell_type": "markdown",
   "id": "be39a9c1",
   "metadata": {},
   "source": [
    "# These domains are the most popular third party domains calling this high entropy api and also attempting FPing"
   ]
  },
  {
   "cell_type": "code",
   "execution_count": 184,
   "id": "be5bf295",
   "metadata": {},
   "outputs": [
    {
     "data": {
      "text/plain": [
       "adsco.re            580\n",
       "wpadmngr.com        520\n",
       "fpnpmcdn.net        147\n",
       "fab34e9d51.com      106\n",
       "shopeemobile.com     95\n",
       "9f50508b3c.com       92\n",
       "yabidos.com          76\n",
       "bad027ae34.com       50\n",
       "aibsgc.com           48\n",
       "zatnoh.com           30\n",
       "cdn-net.com          28\n",
       "xdiwbc.com           28\n",
       "genieegroup.com      23\n",
       "traincdn.com         20\n",
       "akamaihd.net         18\n",
       "dnofd.com            14\n",
       "srvmath.com          14\n",
       "perimeterx.net       14\n",
       "hmstats.com          13\n",
       "seondf.com           12\n",
       "Name: script_domain, dtype: int64"
      ]
     },
     "execution_count": 184,
     "metadata": {},
     "output_type": "execute_result"
    }
   ],
   "source": [
    "third_party_fp_at_with_high_entropy_api.script_domain.value_counts().head(20)"
   ]
  },
  {
   "cell_type": "markdown",
   "id": "4707b410",
   "metadata": {},
   "source": [
    "# These are distinct sites where high entopy API was called and FPing collected by tracker domain:"
   ]
  },
  {
   "cell_type": "code",
   "execution_count": 185,
   "id": "f341d132",
   "metadata": {},
   "outputs": [],
   "source": [
    "tracker_fp_at_with_high_entropy_api = third_party_fp_at_with_high_entropy_api[third_party_fp_at_with_high_entropy_api.is_tracker=='1']"
   ]
  },
  {
   "cell_type": "code",
   "execution_count": 186,
   "id": "778d5369",
   "metadata": {},
   "outputs": [
    {
     "data": {
      "text/plain": [
       "815"
      ]
     },
     "execution_count": 186,
     "metadata": {},
     "output_type": "execute_result"
    }
   ],
   "source": [
    "len(tracker_fp_at_with_high_entropy_api.drop_duplicates('hostname'))"
   ]
  },
  {
   "cell_type": "code",
   "execution_count": 187,
   "id": "31ceb7ec",
   "metadata": {},
   "outputs": [
    {
     "data": {
      "text/plain": [
       "adsco.re              580\n",
       "wpadmngr.com          520\n",
       "fab34e9d51.com        106\n",
       "9f50508b3c.com         92\n",
       "yabidos.com            76\n",
       "bad027ae34.com         50\n",
       "zatnoh.com             30\n",
       "akamaihd.net           18\n",
       "srvmath.com            14\n",
       "perimeterx.net         14\n",
       "hmstats.com            13\n",
       "fpcdn.io               12\n",
       "ocdn.eu                12\n",
       "cdn-net.com            12\n",
       "anura.io               12\n",
       "ad-score.com           11\n",
       "yqmxfz.com             10\n",
       "a3595ccd38.com         10\n",
       "rubiconproject.com      6\n",
       "acexedge.com            4\n",
       "Name: script_domain, dtype: int64"
      ]
     },
     "execution_count": 187,
     "metadata": {},
     "output_type": "execute_result"
    }
   ],
   "source": [
    "tracker_fp_at_with_high_entropy_api.script_domain.value_counts().head(20)"
   ]
  },
  {
   "cell_type": "markdown",
   "id": "26d0d655",
   "metadata": {},
   "source": [
    "# Category of the tracker domains calling high entopy API"
   ]
  },
  {
   "cell_type": "code",
   "execution_count": 148,
   "id": "3ff3a58e",
   "metadata": {},
   "outputs": [
    {
     "name": "stdout",
     "output_type": "stream",
     "text": [
      "DOMAIN:  adsco.re \n",
      "Categories:  Ad Motivated Tracking Ad Fraud Analytics Audience \n",
      "Owner:  Adscore\n",
      "Owner:  Human Security\n",
      "DOMAIN:  perimeterx.net \n",
      "Categories:  Ad Motivated Tracking Ad Fraud Analytics Audience \n",
      "Owner:  PerimeterX\n",
      "Owner:  Ringier Axel Springer\n",
      "Owner:  Adscore\n",
      "DOMAIN:  rubiconproject.com \n",
      "Categories:  Ad Motivated Tracking Advertising\n",
      "Owner:  Magnite\n",
      "Owner:  Human Security\n",
      "DOMAIN:  pubmatic.com \n",
      "Categories:  Ad Motivated Tracking Advertising Ad Fraud Analyti\n",
      "Owner:  PubMatic\n",
      "DOMAIN:  3lift.com \n",
      "Categories:  Ad Motivated Tracking Advertising\n",
      "Owner:  TripleLift\n",
      "DOMAIN:  moatads.com \n",
      "Categories:  Ad Motivated Tracking Advertising Ad Fraud Analyti\n",
      "Owner:  Oracle\n",
      "DOMAIN:  smartadserver.com \n",
      "Categories:  Ad Motivated Tracking Advertising\n",
      "Owner:  Smartadserver\n",
      "Owner:  Dealer Dot Com\n",
      "DOMAIN:  microsoft.com \n",
      "Categories:  Ad Motivated Tracking Advertising Analytics CDN\n",
      "Owner:  Microsoft\n",
      "Owner:  ANIVIEW\n"
     ]
    }
   ],
   "source": [
    "for domain in tracker_fp_at_with_high_entropy_api.script_domain.value_counts().keys():\n",
    "    if domain in tracker_category_dict:\n",
    "        print('DOMAIN: ', domain, \"\\nCategories: \", tracker_category_dict[domain][0:50])\n",
    "    if domain in tracker_owner_dict:\n",
    "        print(\"Owner: \", tracker_owner_dict[domain])"
   ]
  },
  {
   "cell_type": "markdown",
   "id": "4461a54b",
   "metadata": {},
   "source": [
    "# Which ua information was accessed most by tracker scripts?"
   ]
  },
  {
   "cell_type": "code",
   "execution_count": 149,
   "id": "2bf0bead",
   "metadata": {},
   "outputs": [
    {
     "data": {
      "text/plain": [
       "Index(['site_domain', 'initial_url', 'final_url', 'script_url', 'description',\n",
       "       'access_type', 'arguments', 'frameUrl', 'return_value', 'script_domain',\n",
       "       'tracker_categories', 'tracker_owner', 'is_tracker', 'hostname',\n",
       "       'site_rank'],\n",
       "      dtype='object')"
      ]
     },
     "execution_count": 149,
     "metadata": {},
     "output_type": "execute_result"
    }
   ],
   "source": [
    "third_party_high_entropy_api_calls.columns"
   ]
  },
  {
   "cell_type": "code",
   "execution_count": 150,
   "id": "90aa0eaf",
   "metadata": {},
   "outputs": [],
   "source": [
    "def get_call_counts_by_arg():\n",
    "    high_entropy_agrs_call_counts = defaultdict(set) \n",
    "    high_entropy_agrs_call_counts_script_domain = defaultdict(set) \n",
    "    high_entropy_agrs_call_counts_tuple = defaultdict(set) \n",
    "    for index, row in third_party_high_entropy_api_calls.drop_duplicates(['hostname', 'script_url']).iterrows():\n",
    "        initial_url = row['initial_url']\n",
    "        script_domain = row['script_domain']\n",
    "        script_url = row['script_url']\n",
    "        if row['description'] == 'NavigatorUAData.getHighEntropyValues':\n",
    "            if '0' in row['arguments']:\n",
    "                for arg in row['arguments']['0']:\n",
    "#                     if arg == None:\n",
    "#                         print(initial_url)\n",
    "                    high_entropy_agrs_call_counts[arg].add(initial_url)\n",
    "                    high_entropy_agrs_call_counts_script_domain[arg].add(script_domain)\n",
    "                    high_entropy_agrs_call_counts_tuple[arg].add(script_url+initial_url)\n",
    "    return high_entropy_agrs_call_counts, high_entropy_agrs_call_counts_script_domain,high_entropy_agrs_call_counts_tuple"
   ]
  },
  {
   "cell_type": "code",
   "execution_count": 151,
   "id": "edf1b641",
   "metadata": {
    "scrolled": false
   },
   "outputs": [],
   "source": [
    "high_entropy_agrs_call_counts,high_entropy_agrs_call_counts_script_domain,high_entropy_agrs_call_counts_tuple = get_call_counts_by_arg()"
   ]
  },
  {
   "cell_type": "code",
   "execution_count": 152,
   "id": "d8a8dfed",
   "metadata": {},
   "outputs": [
    {
     "name": "stdout",
     "output_type": "stream",
     "text": [
      "platform 51529\n",
      "platformVersion 52214\n",
      "architecture 51229\n",
      "model 52270\n",
      "uaFullVersion 50743\n",
      "bitness 50874\n",
      "fullVersionList 51321\n",
      "wow64 50132\n",
      "mobile 7615\n",
      "brands 5208\n",
      "None 174\n",
      "uaFulVersion 7\n"
     ]
    }
   ],
   "source": [
    "for key, value in high_entropy_agrs_call_counts.items():\n",
    "    print(key, len(value))"
   ]
  },
  {
   "cell_type": "code",
   "execution_count": 361,
   "id": "c95b4921",
   "metadata": {},
   "outputs": [],
   "source": [
    "sorted_list = sorted(high_entropy_agrs_call_counts.items(), key=lambda x:len(x[1]),reverse=True)"
   ]
  },
  {
   "cell_type": "code",
   "execution_count": 362,
   "id": "255adbc8",
   "metadata": {},
   "outputs": [
    {
     "name": "stdout",
     "output_type": "stream",
     "text": [
      "model 52270\n",
      "platformVersion 52214\n",
      "platform 51529\n",
      "fullVersionList 51321\n",
      "architecture 51229\n",
      "bitness 50874\n",
      "uaFullVersion 50743\n",
      "wow64 50132\n",
      "mobile 7615\n",
      "brands 5208\n",
      "None 174\n",
      "uaFulVersion 7\n",
      "1 0\n"
     ]
    }
   ],
   "source": [
    "for i in sorted_list:\n",
    "    print(i[0],len(i[1]))"
   ]
  },
  {
   "cell_type": "code",
   "execution_count": 153,
   "id": "c27f4c58",
   "metadata": {},
   "outputs": [
    {
     "name": "stdout",
     "output_type": "stream",
     "text": [
      "platform 746\n",
      "platformVersion 1052\n",
      "architecture 618\n",
      "model 970\n",
      "uaFullVersion 359\n",
      "bitness 554\n",
      "fullVersionList 792\n",
      "wow64 80\n",
      "mobile 283\n",
      "brands 462\n",
      "None 1\n",
      "uaFulVersion 1\n"
     ]
    }
   ],
   "source": [
    "for key, value in high_entropy_agrs_call_counts_script_domain.items():\n",
    "    print(key, len(value))"
   ]
  },
  {
   "cell_type": "code",
   "execution_count": 154,
   "id": "7535e5e3",
   "metadata": {},
   "outputs": [
    {
     "name": "stdout",
     "output_type": "stream",
     "text": [
      "platform 92921\n",
      "platformVersion 108505\n",
      "architecture 93070\n",
      "model 109992\n",
      "uaFullVersion 83702\n",
      "bitness 86266\n",
      "fullVersionList 97575\n",
      "wow64 76152\n",
      "mobile 11764\n",
      "brands 7329\n",
      "None 174\n",
      "uaFulVersion 7\n"
     ]
    }
   ],
   "source": [
    "for key, value in high_entropy_agrs_call_counts_tuple.items():\n",
    "    print(key, len(value))"
   ]
  },
  {
   "cell_type": "markdown",
   "id": "5a64a59a",
   "metadata": {},
   "source": [
    "# How does popularity affect?"
   ]
  },
  {
   "cell_type": "code",
   "execution_count": 11,
   "id": "4f597f58",
   "metadata": {},
   "outputs": [],
   "source": [
    "with open('site_rank_dict.pkl', 'rb') as handle:\n",
    "    site_rank_dict = pickle.load(handle)"
   ]
  },
  {
   "cell_type": "code",
   "execution_count": 12,
   "id": "8ba31ea7",
   "metadata": {},
   "outputs": [
    {
     "ename": "NameError",
     "evalue": "name 'third_party_high_entropy_api_calls' is not defined",
     "output_type": "error",
     "traceback": [
      "\u001b[0;31m---------------------------------------------------------------------------\u001b[0m",
      "\u001b[0;31mNameError\u001b[0m                                 Traceback (most recent call last)",
      "\u001b[0;32m/tmp/ipykernel_2522400/3964068474.py\u001b[0m in \u001b[0;36m<module>\u001b[0;34m\u001b[0m\n\u001b[0;32m----> 1\u001b[0;31m \u001b[0mthird_party_high_entropy_api_calls\u001b[0m\u001b[0;34m[\u001b[0m\u001b[0;34m'site_rank'\u001b[0m\u001b[0;34m]\u001b[0m \u001b[0;34m=\u001b[0m \u001b[0mthird_party_high_entropy_api_calls\u001b[0m\u001b[0;34m.\u001b[0m\u001b[0mapply\u001b[0m\u001b[0;34m(\u001b[0m\u001b[0;32mlambda\u001b[0m \u001b[0mx\u001b[0m\u001b[0;34m:\u001b[0m \u001b[0msite_rank_dict\u001b[0m\u001b[0;34m[\u001b[0m\u001b[0mx\u001b[0m\u001b[0;34m[\u001b[0m\u001b[0;34m'initial_url'\u001b[0m\u001b[0;34m]\u001b[0m\u001b[0;34m[\u001b[0m\u001b[0;34m:\u001b[0m\u001b[0;34m-\u001b[0m\u001b[0;36m1\u001b[0m\u001b[0;34m]\u001b[0m\u001b[0;34m]\u001b[0m\u001b[0;34m,\u001b[0m \u001b[0maxis\u001b[0m\u001b[0;34m=\u001b[0m\u001b[0;36m1\u001b[0m\u001b[0;34m)\u001b[0m\u001b[0;34m\u001b[0m\u001b[0;34m\u001b[0m\u001b[0m\n\u001b[0m",
      "\u001b[0;31mNameError\u001b[0m: name 'third_party_high_entropy_api_calls' is not defined"
     ]
    }
   ],
   "source": [
    "third_party_high_entropy_api_calls['site_rank'] = third_party_high_entropy_api_calls.apply(lambda x: site_rank_dict[x['initial_url'][:-1]], axis=1)"
   ]
  },
  {
   "cell_type": "code",
   "execution_count": 13,
   "id": "d178a103",
   "metadata": {},
   "outputs": [],
   "source": [
    "fp_attempts['site_rank'] = fp_attempts.apply(lambda x: site_rank_dict[x['initial_url'][:-1]], axis=1)"
   ]
  },
  {
   "cell_type": "code",
   "execution_count": 14,
   "id": "c5704bc3",
   "metadata": {},
   "outputs": [
    {
     "data": {
      "text/plain": [
       "100000    3232\n",
       "50000     3073\n",
       "10000      467\n",
       "5000       411\n",
       "1000       132\n",
       "Name: site_rank, dtype: int64"
      ]
     },
     "execution_count": 14,
     "metadata": {},
     "output_type": "execute_result"
    }
   ],
   "source": [
    "fp_attempts.drop_duplicates('initial_url').site_rank.value_counts()"
   ]
  },
  {
   "cell_type": "code",
   "execution_count": 166,
   "id": "9c511db5",
   "metadata": {},
   "outputs": [],
   "source": [
    "api_calls['site_rank'] = api_calls.apply(lambda x: site_rank_dict[x['initial_url'][:-1]], axis=1)"
   ]
  },
  {
   "cell_type": "code",
   "execution_count": 167,
   "id": "b38efcb3",
   "metadata": {},
   "outputs": [],
   "source": [
    "successed_hostnames = np.load('successed_hostnames.npy', allow_pickle=True)"
   ]
  },
  {
   "cell_type": "code",
   "execution_count": 168,
   "id": "d7ce703d",
   "metadata": {},
   "outputs": [],
   "source": [
    "successed_hostnames_set = set(successed_hostnames)"
   ]
  },
  {
   "cell_type": "code",
   "execution_count": 169,
   "id": "3036eaf1",
   "metadata": {},
   "outputs": [
    {
     "data": {
      "text/plain": [
       "815"
      ]
     },
     "execution_count": 169,
     "metadata": {},
     "output_type": "execute_result"
    }
   ],
   "source": [
    "api_calls[(api_calls.site_rank==1000)&(api_calls.hostname.isin(successed_hostnames_set))].initial_url.nunique()"
   ]
  },
  {
   "cell_type": "code",
   "execution_count": 170,
   "id": "8fbd714e",
   "metadata": {},
   "outputs": [
    {
     "data": {
      "text/plain": [
       "100000    26092\n",
       "50000     21092\n",
       "10000      2671\n",
       "5000       2029\n",
       "1000        508\n",
       "Name: site_rank, dtype: int64"
      ]
     },
     "execution_count": 170,
     "metadata": {},
     "output_type": "execute_result"
    }
   ],
   "source": [
    "third_party_high_entropy_api_calls.drop_duplicates('initial_url').site_rank.value_counts()"
   ]
  },
  {
   "cell_type": "code",
   "execution_count": null,
   "id": "605a4413",
   "metadata": {},
   "outputs": [],
   "source": []
  }
 ],
 "metadata": {
  "kernelspec": {
   "display_name": "Python 3 (ipykernel)",
   "language": "python",
   "name": "python3"
  },
  "language_info": {
   "codemirror_mode": {
    "name": "ipython",
    "version": 3
   },
   "file_extension": ".py",
   "mimetype": "text/x-python",
   "name": "python",
   "nbconvert_exporter": "python",
   "pygments_lexer": "ipython3",
   "version": "3.8.10"
  }
 },
 "nbformat": 4,
 "nbformat_minor": 5
}

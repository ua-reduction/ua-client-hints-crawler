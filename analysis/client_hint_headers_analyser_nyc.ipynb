{
 "cells": [
  {
   "cell_type": "code",
   "execution_count": 1,
   "id": "1cfbed4c",
   "metadata": {},
   "outputs": [],
   "source": [
    "import pandas as pd\n",
    "from os.path import join\n",
    "from nb_utils import value_counts_and_percentage\n",
    "# show two decimal places for floats\n",
    "pd.options.display.float_format = '{:,.1f}'.format\n",
    "from collections import defaultdict\n",
    "import pickle"
   ]
  },
  {
   "cell_type": "code",
   "execution_count": 2,
   "id": "ea5c2e5b",
   "metadata": {},
   "outputs": [],
   "source": [
    "with open('successed_hostnames.pkl', 'rb') as f:\n",
    "    successed_hostnames = pickle.load(f)"
   ]
  },
  {
   "cell_type": "code",
   "execution_count": 3,
   "id": "f14e982c",
   "metadata": {},
   "outputs": [],
   "source": [
    "with open('LeakDetector/tracker_category_dict.pkl', 'rb') as handle:\n",
    "    tracker_category_dict = pickle.load(handle)\n",
    "with open('LeakDetector/category_domains.pkl', 'rb') as handle:\n",
    "    category_domains_dict = pickle.load(handle)\n",
    "with open('LeakDetector/tracker_owner_dict.pkl', 'rb') as handle:\n",
    "    tracker_owner_dict = pickle.load(handle)"
   ]
  },
  {
   "cell_type": "code",
   "execution_count": 4,
   "id": "562755e9",
   "metadata": {},
   "outputs": [],
   "source": [
    "df = pd.read_pickle(\"../pickles/100k_nyc_all_reqs.pkl\")"
   ]
  },
  {
   "cell_type": "code",
   "execution_count": 5,
   "id": "cc5900ae",
   "metadata": {},
   "outputs": [],
   "source": [
    "delegation_df = pd.read_pickle(\"../pickles/100k_nyc_delegation_df.pkl\")"
   ]
  },
  {
   "cell_type": "code",
   "execution_count": 10,
   "id": "d890272f",
   "metadata": {},
   "outputs": [],
   "source": [
    "# CONSTANTS:\n",
    "\n",
    "DEFAULT_SAVE_HEADERS = [\n",
    "    \"accept_ch\",\n",
    "]\n",
    "\n",
    "\n",
    "RESPONSE_HEADERS = [\n",
    "    \"permissions_policy\",\n",
    "    \"feature_policy\",\n",
    "    \"critical_ch\",\n",
    "    \"vary\",\n",
    "]\n",
    "\n",
    "CLIENT_HINT_REQUEST_HEADERS = [\n",
    "   \"save_data\",\n",
    "    \"sec_ch_dpr\",\n",
    "    \"sec_ch_width\",\n",
    "    \"sec_ch_viewport_width\",\n",
    "    \"sec_ch_viewport_height\",\n",
    "    \"sec_ch_device_memory\",\n",
    "    \"rtt\",\n",
    "    \"downlink\",\n",
    "    \"ect\",\n",
    "    \"sec_ch_prefers_color_scheme\",\n",
    "    \"sec_ch_prefers_reduced_motion\",\n",
    "    \"sec_ch_ua\",\n",
    "    \"sec_ch_ua_arch\",\n",
    "    \"sec_ch_ua_bitness\",\n",
    "    \"sec_ch_ua_full_version\",\n",
    "    \"sec_ch_ua_full_version_list\",\n",
    "    \"sec_ch_ua_mobile\",\n",
    "    \"sec_ch_ua_model\",\n",
    "    \"sec_ch_ua_platform\",\n",
    "    \"sec_ch_ua_platform_version\",\n",
    "    \"sec_ch_ua_wow64\",\n",
    "]\n",
    "\n",
    "CRITICAL_CLIENT_HINT_REQUEST_HEADERS = [\n",
    "   \"save_data\",\n",
    "    \"sec_ch_ua\",\n",
    "    \"sec_ch_ua_arch\",\n",
    "    \"sec_ch_ua_bitness\",\n",
    "    \"sec_ch_ua_full_version\",\n",
    "    \"sec_ch_ua_full_version_list\",\n",
    "    \"sec_ch_ua_mobile\",\n",
    "    \"sec_ch_ua_model\",\n",
    "    \"sec_ch_ua_platform\",\n",
    "    \"sec_ch_ua_platform_version\",\n",
    "    \"sec_ch_ua_wow64\"\n",
    "]"
   ]
  },
  {
   "cell_type": "markdown",
   "id": "4f95ce11",
   "metadata": {},
   "source": [
    "# Crawl Statistics:"
   ]
  },
  {
   "cell_type": "code",
   "execution_count": 11,
   "id": "65f1ace2",
   "metadata": {},
   "outputs": [],
   "source": [
    "TOTAL_NUM_SUCC_SITES = 89763"
   ]
  },
  {
   "cell_type": "markdown",
   "id": "fc58b080",
   "metadata": {},
   "source": [
    "# A specific (non-default) UA client hint (CH) is sent"
   ]
  },
  {
   "cell_type": "code",
   "execution_count": 12,
   "id": "9c14338f",
   "metadata": {},
   "outputs": [],
   "source": [
    "def check_header_prominence_all(df, header_values, total_page_num):\n",
    "    for header_value in header_values:\n",
    "        res = df.loc[ (df[header_value] != '') & (~df[header_value].isnull())].drop_duplicates('hostname')\n",
    "        print(header_value, len(res), round(len(res)/total_page_num,5))"
   ]
  },
  {
   "cell_type": "code",
   "execution_count": 13,
   "id": "80032c9d",
   "metadata": {},
   "outputs": [
    {
     "name": "stdout",
     "output_type": "stream",
     "text": [
      "accept_ch 33346 0.37149\n",
      "permissions_policy 31236 0.34798\n",
      "feature_policy 1586 0.01767\n",
      "critical_ch 587 0.00654\n",
      "vary 83722 0.9327\n",
      "save_data 226 0.00252\n",
      "sec_ch_ua 89141 0.99307\n",
      "sec_ch_ua_arch 667 0.00743\n",
      "sec_ch_ua_bitness 491 0.00547\n",
      "sec_ch_ua_full_version 581 0.00647\n",
      "sec_ch_ua_full_version_list 696 0.00775\n",
      "sec_ch_ua_mobile 89141 0.99307\n",
      "sec_ch_ua_model 886 0.00987\n",
      "sec_ch_ua_platform 89141 0.99307\n",
      "sec_ch_ua_platform_version 886 0.00987\n",
      "sec_ch_ua_wow64 401 0.00447\n"
     ]
    }
   ],
   "source": [
    "for header in [DEFAULT_SAVE_HEADERS, RESPONSE_HEADERS, CRITICAL_CLIENT_HINT_REQUEST_HEADERS]:\n",
    "    check_header_prominence_all(df,header,TOTAL_NUM_SUCC_SITES)"
   ]
  },
  {
   "cell_type": "code",
   "execution_count": 14,
   "id": "5bf5decd",
   "metadata": {},
   "outputs": [],
   "source": [
    "def check_header_prominence_third_party(df, header_values):\n",
    "    ch_values = dict()\n",
    "    for header_value in header_values:\n",
    "        res = len(df.loc[ (df['is_third_party']) &(df[header_value] != '') & (~df[header_value].isnull())].drop_duplicates(['hostname']))\n",
    "        ch_values[header_value] = res\n",
    "    return ch_values"
   ]
  },
  {
   "cell_type": "code",
   "execution_count": null,
   "id": "464db7a0",
   "metadata": {},
   "outputs": [],
   "source": [
    "headers = DEFAULT_SAVE_HEADERS + RESPONSE_HEADERS + CRITICAL_CLIENT_HINT_REQUEST_HEADERS\n",
    "ch_values_third_party = check_header_prominence_third_party(df, headers)"
   ]
  },
  {
   "cell_type": "code",
   "execution_count": null,
   "id": "d91c5e90",
   "metadata": {},
   "outputs": [],
   "source": [
    "sorted(ch_values_third_party.items(), key=lambda x:x[1], reverse=True)"
   ]
  },
  {
   "cell_type": "code",
   "execution_count": null,
   "id": "084136e9",
   "metadata": {},
   "outputs": [],
   "source": [
    "h_ent_headers = [\"sec_ch_ua_arch\",\n",
    "    \"sec_ch_ua_bitness\",\n",
    "    \"sec_ch_ua_full_version\",\n",
    "    \"sec_ch_ua_full_version_list\",\n",
    "    \"sec_ch_ua_model\",\n",
    "    \"sec_ch_ua_platform_version\",\n",
    "    \"sec_ch_ua_wow64\"]\n",
    "third_domains = set()\n",
    "third_p_sites = set()\n",
    "for header_value in h_ent_headers:\n",
    "    domains = df[(df['is_third_party']) &(df[header_value] != '') & (~df[header_value].isnull())].request_url_domain.unique()\n",
    "    for domain in domains:\n",
    "        third_domains.add(domain)\n",
    "    sites = df[(df['is_third_party']) &(df[header_value] != '') & (~df[header_value].isnull())].hostname.unique()\n",
    "    for site in sites:\n",
    "        third_p_sites.add(site)"
   ]
  },
  {
   "cell_type": "code",
   "execution_count": null,
   "id": "aded4837",
   "metadata": {},
   "outputs": [],
   "source": [
    "len(third_p_sites), third_p_sites"
   ]
  },
  {
   "cell_type": "code",
   "execution_count": null,
   "id": "6d038b08",
   "metadata": {},
   "outputs": [],
   "source": [
    "len(third_domains),third_domains"
   ]
  },
  {
   "cell_type": "code",
   "execution_count": null,
   "id": "fdf28f4e",
   "metadata": {},
   "outputs": [],
   "source": [
    "df[df.is_third_party].request_url_domain.nunique()"
   ]
  },
  {
   "cell_type": "code",
   "execution_count": null,
   "id": "d87bdae0",
   "metadata": {},
   "outputs": [],
   "source": [
    "def check_header_prominence_tracker(df, header_values):\n",
    "    ch_values = dict()\n",
    "    for header_value in header_values:\n",
    "        res = len(df.loc[ (df['is_third_party']) &(df['is_tracker']=='1') &(df[header_value] != '') & (~df[header_value].isnull())].drop_duplicates(['hostname']))\n",
    "        ch_values[header_value] = res\n",
    "    return ch_values"
   ]
  },
  {
   "cell_type": "code",
   "execution_count": null,
   "id": "5b4d4553",
   "metadata": {},
   "outputs": [],
   "source": [
    "ch_values_tracker = check_header_prominence_tracker(df, headers)"
   ]
  },
  {
   "cell_type": "code",
   "execution_count": null,
   "id": "79cc73b9",
   "metadata": {},
   "outputs": [],
   "source": [
    "sorted(ch_values_tracker.items(), key=lambda x:x[1], reverse=True)"
   ]
  },
  {
   "cell_type": "markdown",
   "id": "6c9af44c",
   "metadata": {},
   "source": [
    "# A CH is sent to a third-party domain"
   ]
  },
  {
   "cell_type": "code",
   "execution_count": null,
   "id": "d9016a9a",
   "metadata": {},
   "outputs": [],
   "source": [
    "def check_sites_send_ch(df, header_values):\n",
    "    sites = set()\n",
    "    for header_value in header_values:\n",
    "        res = list(df.loc[ (df['is_third_party']) &(df[header_value] != '') & (~df[header_value].isnull())].drop_duplicates('hostname').hostname)\n",
    "        for domain in res:\n",
    "            sites.add(domain)\n",
    "    return sites"
   ]
  },
  {
   "cell_type": "code",
   "execution_count": null,
   "id": "f8c178a5",
   "metadata": {},
   "outputs": [],
   "source": [
    "sites_send_ch_to_third_parties = check_sites_send_ch(df, CRITICAL_CLIENT_HINT_REQUEST_HEADERS)"
   ]
  },
  {
   "cell_type": "markdown",
   "id": "2ce6a1bb",
   "metadata": {},
   "source": [
    "# Number of sites where a CH is sent to a third party:"
   ]
  },
  {
   "cell_type": "code",
   "execution_count": null,
   "id": "50322734",
   "metadata": {},
   "outputs": [],
   "source": [
    "len(sites_send_ch_to_third_parties)"
   ]
  },
  {
   "cell_type": "markdown",
   "id": "beb77c50",
   "metadata": {},
   "source": [
    "# Sites where a CH is sent to a third party:"
   ]
  },
  {
   "cell_type": "code",
   "execution_count": null,
   "id": "f7b10460",
   "metadata": {},
   "outputs": [],
   "source": [
    "sites_send_ch_to_third_parties"
   ]
  },
  {
   "cell_type": "markdown",
   "id": "0dd61bcd",
   "metadata": {},
   "source": [
    "# Top domains that receive CH headers (for each type of CH)"
   ]
  },
  {
   "cell_type": "code",
   "execution_count": null,
   "id": "831b96c0",
   "metadata": {},
   "outputs": [],
   "source": [
    "def check_third_party_domains(df, header_values):\n",
    "    third_party_domains = defaultdict(int)\n",
    "    categories_num_dict = defaultdict(int)\n",
    "    for header_value in header_values:\n",
    "        res = df.loc[ (df['is_third_party']) &(df[header_value] != '') & (~df[header_value].isnull())].drop_duplicates(['request_url_domain','hostname']).request_url_domain.value_counts()\n",
    "        print(header_value, len(res), round(len(res)/TOTAL_NUM_SUCC_SITES,5))\n",
    "        for key, value in res.items():\n",
    "            for category, domains in category_domains_dict.items():\n",
    "                if key in  domains:\n",
    "                    categories_num_dict[category]+=1\n",
    "            third_party_domains[key]+=value\n",
    "    return third_party_domains, categories_num_dict"
   ]
  },
  {
   "cell_type": "code",
   "execution_count": null,
   "id": "f14fdcb6",
   "metadata": {},
   "outputs": [],
   "source": [
    "categories_num_dict = check_third_party_domains(df,headers)"
   ]
  },
  {
   "cell_type": "code",
   "execution_count": null,
   "id": "75c178b9",
   "metadata": {},
   "outputs": [],
   "source": [
    "h_ent_headers = [\"sec_ch_ua_arch\",\n",
    "    \"sec_ch_ua_bitness\",\n",
    "    \"sec_ch_ua_full_version\",\n",
    "    \"sec_ch_ua_full_version_list\",\n",
    "    \"sec_ch_ua_model\",\n",
    "    \"sec_ch_ua_platform_version\",\n",
    "    \"sec_ch_ua_wow64\"]\n",
    "categories_num_dict = defaultdict(set)\n",
    "for header_value in h_ent_headers:\n",
    "    distinct_reqs = df.loc[ (df['is_third_party']) &(df[header_value] != '') & (~df[header_value].isnull())].drop_duplicates(['request_url_domain','hostname'])\n",
    "    for index, row in distinct_reqs.iterrows():\n",
    "        script_domain = row['request_url_domain']\n",
    "        site_domain = row['site_domain']\n",
    "        for category, domains in category_domains_dict.items():\n",
    "            if script_domain in  domains:\n",
    "                categories_num_dict[category].add(site_domain)"
   ]
  },
  {
   "cell_type": "code",
   "execution_count": null,
   "id": "b3f8055d",
   "metadata": {},
   "outputs": [],
   "source": [
    "sorted_list = sorted(categories_num_dict.items(), key=lambda x:len(x[1]),reverse=True)"
   ]
  },
  {
   "cell_type": "code",
   "execution_count": null,
   "id": "88ba9722",
   "metadata": {},
   "outputs": [],
   "source": [
    "for i in sorted_list:\n",
    "    print(i[0],len(i[1]))"
   ]
  },
  {
   "cell_type": "markdown",
   "id": "6476db3f",
   "metadata": {},
   "source": [
    "# CHs are delegated by a Permissions Policy header or HTML tags"
   ]
  },
  {
   "cell_type": "markdown",
   "id": "f3aca836",
   "metadata": {},
   "source": [
    "# CHs are delegated by delegation with equiv attr:"
   ]
  },
  {
   "cell_type": "code",
   "execution_count": null,
   "id": "9966bea9",
   "metadata": {},
   "outputs": [],
   "source": [
    "delegation_df[delegation_df.delegateCHOnEquiv!=''][['site_domain','delegateCHOnEquiv']]"
   ]
  },
  {
   "cell_type": "markdown",
   "id": "c25b3768",
   "metadata": {},
   "source": [
    "# CHs are delegated by delegation with name attr:"
   ]
  },
  {
   "cell_type": "code",
   "execution_count": null,
   "id": "95d85837",
   "metadata": {},
   "outputs": [],
   "source": [
    "delegation_df[delegation_df.delegateCHOnName!=''][['site_domain','delegateCHOnName']]"
   ]
  },
  {
   "cell_type": "markdown",
   "id": "b55ca9a4",
   "metadata": {},
   "source": [
    "# CHs are accepted with euqiv attr:"
   ]
  },
  {
   "cell_type": "code",
   "execution_count": null,
   "id": "bc3776f1",
   "metadata": {},
   "outputs": [],
   "source": [
    "delegation_df[delegation_df.acceptCHOnEquiv!=''][['site_domain','acceptCHOnEquiv']]"
   ]
  },
  {
   "cell_type": "code",
   "execution_count": null,
   "id": "80bdea63",
   "metadata": {},
   "outputs": [],
   "source": [
    "delegation_df[delegation_df.acceptCHOnEquiv!=''][['site_domain','acceptCHOnEquiv']]"
   ]
  },
  {
   "cell_type": "code",
   "execution_count": null,
   "id": "f53f1bab",
   "metadata": {},
   "outputs": [],
   "source": [
    "delegation_df[delegation_df.acceptCHOnEquiv!=''][['site_domain','acceptCHOnEquiv']].to_pickle('../pickles/accept_ch_html.pkl')"
   ]
  },
  {
   "cell_type": "markdown",
   "id": "6e58c9bd",
   "metadata": {},
   "source": [
    "# CHs are accepted with name attr:"
   ]
  },
  {
   "cell_type": "code",
   "execution_count": null,
   "id": "0adc632d",
   "metadata": {},
   "outputs": [],
   "source": [
    "delegation_df[delegation_df.acceptCHOnName!=''][['site_domain','acceptCHOnName']]"
   ]
  },
  {
   "cell_type": "markdown",
   "id": "c7031408",
   "metadata": {},
   "source": [
    "# CHs are delegated by an iframe:"
   ]
  },
  {
   "cell_type": "code",
   "execution_count": null,
   "id": "e6138d93",
   "metadata": {},
   "outputs": [],
   "source": [
    "delegation_df[delegation_df.frameClientHints!=''][['site_domain','frameClientHints', 'frameSrcs']]"
   ]
  },
  {
   "cell_type": "code",
   "execution_count": null,
   "id": "10309c8e",
   "metadata": {},
   "outputs": [],
   "source": []
  }
 ],
 "metadata": {
  "kernelspec": {
   "display_name": "Python 3 (ipykernel)",
   "language": "python",
   "name": "python3"
  },
  "language_info": {
   "codemirror_mode": {
    "name": "ipython",
    "version": 3
   },
   "file_extension": ".py",
   "mimetype": "text/x-python",
   "name": "python",
   "nbconvert_exporter": "python",
   "pygments_lexer": "ipython3",
   "version": "3.8.10"
  }
 },
 "nbformat": 4,
 "nbformat_minor": 5
}

{
 "cells": [
  {
   "cell_type": "code",
   "execution_count": 43,
   "id": "365f2ecd",
   "metadata": {},
   "outputs": [],
   "source": [
    "import glob\n",
    "from os.path import basename\n",
    "import pandas as pd\n",
    "import json\n",
    "from collections import defaultdict"
   ]
  },
  {
   "cell_type": "code",
   "execution_count": 44,
   "id": "27921904",
   "metadata": {},
   "outputs": [],
   "source": [
    "high_entropy_values = set(['full_version', 'platform_version'])"
   ]
  },
  {
   "cell_type": "code",
   "execution_count": 45,
   "id": "0f1b56ef",
   "metadata": {},
   "outputs": [],
   "source": [
    "# Opening JSON file\n",
    "f = open('data/tracker_category.json')\n",
    "tracker_category_json = json.load(f)\n",
    "tracker_category_dict = json.loads(tracker_category_json)"
   ]
  },
  {
   "cell_type": "code",
   "execution_count": 46,
   "id": "9d02323d",
   "metadata": {},
   "outputs": [],
   "source": [
    "# Opening JSON file\n",
    "f = open('data/category_domains.json')\n",
    "category_domains_json = json.load(f)\n",
    "category_domains_dict = json.loads(category_domains_json)"
   ]
  },
  {
   "cell_type": "code",
   "execution_count": 47,
   "id": "75f5e516",
   "metadata": {},
   "outputs": [],
   "source": [
    "# Opening JSON file\n",
    "f = open('data/tracker_owner.json')\n",
    "tracker_owner_json = json.load(f)\n",
    "tracker_owner_dict = json.loads(tracker_owner_json)"
   ]
  },
  {
   "cell_type": "code",
   "execution_count": 11,
   "id": "86355d07",
   "metadata": {},
   "outputs": [],
   "source": [
    "api_calls = pd.read_csv(\"data/100k_nyc_api_calls.csv\")"
   ]
  },
  {
   "cell_type": "code",
   "execution_count": 12,
   "id": "c2bc5891",
   "metadata": {},
   "outputs": [],
   "source": [
    "df = pd.read_csv(\"data/100k_nyc_leaky_reqs_with_hashes.csv\")"
   ]
  },
  {
   "cell_type": "code",
   "execution_count": 13,
   "id": "72e49fca",
   "metadata": {},
   "outputs": [],
   "source": [
    "df = df[df.search_type.isin(high_entropy_values)]"
   ]
  },
  {
   "cell_type": "code",
   "execution_count": 14,
   "id": "e2e433ff",
   "metadata": {},
   "outputs": [
    {
     "data": {
      "text/plain": [
       "unencoded             470993\n",
       "urlencode             352486\n",
       "urlencode-base64       51426\n",
       "base64                  3068\n",
       "lzstring                   1\n",
       "urlencode-lzstring         1\n",
       "Name: encoding, dtype: int64"
      ]
     },
     "execution_count": 14,
     "metadata": {},
     "output_type": "execute_result"
    }
   ],
   "source": [
    "df.encoding.value_counts()"
   ]
  },
  {
   "cell_type": "code",
   "execution_count": 15,
   "id": "76f1806c",
   "metadata": {},
   "outputs": [
    {
     "data": {
      "text/plain": [
       "urlencode           42980\n",
       "unencoded            3325\n",
       "urlencode-base64     1992\n",
       "base64                 58\n",
       "Name: encoding, dtype: int64"
      ]
     },
     "execution_count": 15,
     "metadata": {},
     "output_type": "execute_result"
    }
   ],
   "source": [
    "df[df.search_type.isin(['full_version','platform_version'])].drop_duplicates(['initial_url','hostname']).encoding.value_counts()"
   ]
  },
  {
   "cell_type": "code",
   "execution_count": 16,
   "id": "45d2776e",
   "metadata": {},
   "outputs": [],
   "source": [
    "third_party_leaks = df[df.third_party_req]"
   ]
  },
  {
   "cell_type": "code",
   "execution_count": 50,
   "id": "4015502e",
   "metadata": {},
   "outputs": [],
   "source": [
    "tracker_leaks = df[(df.third_party_req)&(df.is_tracker==1)]"
   ]
  },
  {
   "cell_type": "code",
   "execution_count": 51,
   "id": "4a5cf999",
   "metadata": {},
   "outputs": [
    {
     "data": {
      "text/html": [
       "<div>\n",
       "<style scoped>\n",
       "    .dataframe tbody tr th:only-of-type {\n",
       "        vertical-align: middle;\n",
       "    }\n",
       "\n",
       "    .dataframe tbody tr th {\n",
       "        vertical-align: top;\n",
       "    }\n",
       "\n",
       "    .dataframe thead th {\n",
       "        text-align: right;\n",
       "    }\n",
       "</style>\n",
       "<table border=\"1\" class=\"dataframe\">\n",
       "  <thead>\n",
       "    <tr style=\"text-align: right;\">\n",
       "      <th></th>\n",
       "      <th>search</th>\n",
       "      <th>search_type</th>\n",
       "      <th>encoding</th>\n",
       "      <th>leak_type</th>\n",
       "      <th>final_url</th>\n",
       "      <th>final_url_domain</th>\n",
       "      <th>initial_url</th>\n",
       "      <th>initial_url_domain</th>\n",
       "      <th>third_party_req</th>\n",
       "      <th>req_has_third_party_initiator</th>\n",
       "      <th>...</th>\n",
       "      <th>request</th>\n",
       "      <th>request_type</th>\n",
       "      <th>category</th>\n",
       "      <th>rank_of_site</th>\n",
       "      <th>req_initiators</th>\n",
       "      <th>is_same_party</th>\n",
       "      <th>req_domain_entity</th>\n",
       "      <th>req_domain_category</th>\n",
       "      <th>is_tracker</th>\n",
       "      <th>hostname</th>\n",
       "    </tr>\n",
       "  </thead>\n",
       "  <tbody>\n",
       "    <tr>\n",
       "      <th>0</th>\n",
       "      <td>113.0.5672.63</td>\n",
       "      <td>full_version</td>\n",
       "      <td>urlencode</td>\n",
       "      <td>url_leaks</td>\n",
       "      <td>https://selcuksportshd78.com/</td>\n",
       "      <td>selcuksportshd78.com</td>\n",
       "      <td>https://selcuksportshd78.com/</td>\n",
       "      <td>selcuksportshd78.com</td>\n",
       "      <td>True</td>\n",
       "      <td>True</td>\n",
       "      <td>...</td>\n",
       "      <td>{'url': 'https://www.google-analytics.com/g/co...</td>\n",
       "      <td>ping</td>\n",
       "      <td>NaN</td>\n",
       "      <td>50000</td>\n",
       "      <td>https://www.googletagmanager.com/gtag/js?id=G-...</td>\n",
       "      <td>False</td>\n",
       "      <td>Google</td>\n",
       "      <td>Advertising Analytics Audience Measurement Thi...</td>\n",
       "      <td>1</td>\n",
       "      <td>selcuksportshd78.com</td>\n",
       "    </tr>\n",
       "    <tr>\n",
       "      <th>1</th>\n",
       "      <td>5.15.0</td>\n",
       "      <td>platform_version</td>\n",
       "      <td>urlencode</td>\n",
       "      <td>url_leaks</td>\n",
       "      <td>https://selcuksportshd78.com/</td>\n",
       "      <td>selcuksportshd78.com</td>\n",
       "      <td>https://selcuksportshd78.com/</td>\n",
       "      <td>selcuksportshd78.com</td>\n",
       "      <td>True</td>\n",
       "      <td>True</td>\n",
       "      <td>...</td>\n",
       "      <td>{'url': 'https://www.google-analytics.com/g/co...</td>\n",
       "      <td>ping</td>\n",
       "      <td>NaN</td>\n",
       "      <td>50000</td>\n",
       "      <td>https://www.googletagmanager.com/gtag/js?id=G-...</td>\n",
       "      <td>False</td>\n",
       "      <td>Google</td>\n",
       "      <td>Advertising Analytics Audience Measurement Thi...</td>\n",
       "      <td>1</td>\n",
       "      <td>selcuksportshd78.com</td>\n",
       "    </tr>\n",
       "    <tr>\n",
       "      <th>2</th>\n",
       "      <td>5.15.0</td>\n",
       "      <td>platform_version</td>\n",
       "      <td>unencoded</td>\n",
       "      <td>url_leaks</td>\n",
       "      <td>https://selcuksportshd78.com/</td>\n",
       "      <td>selcuksportshd78.com</td>\n",
       "      <td>https://selcuksportshd78.com/</td>\n",
       "      <td>selcuksportshd78.com</td>\n",
       "      <td>True</td>\n",
       "      <td>True</td>\n",
       "      <td>...</td>\n",
       "      <td>{'url': 'https://www.google-analytics.com/g/co...</td>\n",
       "      <td>ping</td>\n",
       "      <td>NaN</td>\n",
       "      <td>50000</td>\n",
       "      <td>https://www.googletagmanager.com/gtag/js?id=G-...</td>\n",
       "      <td>False</td>\n",
       "      <td>Google</td>\n",
       "      <td>Advertising Analytics Audience Measurement Thi...</td>\n",
       "      <td>1</td>\n",
       "      <td>selcuksportshd78.com</td>\n",
       "    </tr>\n",
       "    <tr>\n",
       "      <th>4</th>\n",
       "      <td>113.0.5672.63</td>\n",
       "      <td>full_version</td>\n",
       "      <td>unencoded</td>\n",
       "      <td>url_leaks</td>\n",
       "      <td>https://selcuksportshd78.com/</td>\n",
       "      <td>selcuksportshd78.com</td>\n",
       "      <td>https://selcuksportshd78.com/</td>\n",
       "      <td>selcuksportshd78.com</td>\n",
       "      <td>True</td>\n",
       "      <td>True</td>\n",
       "      <td>...</td>\n",
       "      <td>{'url': 'https://www.google-analytics.com/g/co...</td>\n",
       "      <td>ping</td>\n",
       "      <td>NaN</td>\n",
       "      <td>50000</td>\n",
       "      <td>https://www.googletagmanager.com/gtag/js?id=G-...</td>\n",
       "      <td>False</td>\n",
       "      <td>Google</td>\n",
       "      <td>Advertising Analytics Audience Measurement Thi...</td>\n",
       "      <td>1</td>\n",
       "      <td>selcuksportshd78.com</td>\n",
       "    </tr>\n",
       "    <tr>\n",
       "      <th>5</th>\n",
       "      <td>113.0.5672.63</td>\n",
       "      <td>full_version</td>\n",
       "      <td>urlencode</td>\n",
       "      <td>url_leaks</td>\n",
       "      <td>https://selcuksportshd78.com/</td>\n",
       "      <td>selcuksportshd78.com</td>\n",
       "      <td>https://selcuksportshd78.com/</td>\n",
       "      <td>selcuksportshd78.com</td>\n",
       "      <td>True</td>\n",
       "      <td>True</td>\n",
       "      <td>...</td>\n",
       "      <td>{'url': 'https://www.google-analytics.com/g/co...</td>\n",
       "      <td>ping</td>\n",
       "      <td>NaN</td>\n",
       "      <td>50000</td>\n",
       "      <td>https://www.googletagmanager.com/gtag/js?id=G-...</td>\n",
       "      <td>False</td>\n",
       "      <td>Google</td>\n",
       "      <td>Advertising Analytics Audience Measurement Thi...</td>\n",
       "      <td>1</td>\n",
       "      <td>selcuksportshd78.com</td>\n",
       "    </tr>\n",
       "  </tbody>\n",
       "</table>\n",
       "<p>5 rows × 23 columns</p>\n",
       "</div>"
      ],
      "text/plain": [
       "          search       search_type   encoding  leak_type  \\\n",
       "0  113.0.5672.63      full_version  urlencode  url_leaks   \n",
       "1         5.15.0  platform_version  urlencode  url_leaks   \n",
       "2         5.15.0  platform_version  unencoded  url_leaks   \n",
       "4  113.0.5672.63      full_version  unencoded  url_leaks   \n",
       "5  113.0.5672.63      full_version  urlencode  url_leaks   \n",
       "\n",
       "                       final_url      final_url_domain  \\\n",
       "0  https://selcuksportshd78.com/  selcuksportshd78.com   \n",
       "1  https://selcuksportshd78.com/  selcuksportshd78.com   \n",
       "2  https://selcuksportshd78.com/  selcuksportshd78.com   \n",
       "4  https://selcuksportshd78.com/  selcuksportshd78.com   \n",
       "5  https://selcuksportshd78.com/  selcuksportshd78.com   \n",
       "\n",
       "                     initial_url    initial_url_domain  third_party_req  \\\n",
       "0  https://selcuksportshd78.com/  selcuksportshd78.com             True   \n",
       "1  https://selcuksportshd78.com/  selcuksportshd78.com             True   \n",
       "2  https://selcuksportshd78.com/  selcuksportshd78.com             True   \n",
       "4  https://selcuksportshd78.com/  selcuksportshd78.com             True   \n",
       "5  https://selcuksportshd78.com/  selcuksportshd78.com             True   \n",
       "\n",
       "   req_has_third_party_initiator  ...  \\\n",
       "0                           True  ...   \n",
       "1                           True  ...   \n",
       "2                           True  ...   \n",
       "4                           True  ...   \n",
       "5                           True  ...   \n",
       "\n",
       "                                             request request_type category  \\\n",
       "0  {'url': 'https://www.google-analytics.com/g/co...         ping      NaN   \n",
       "1  {'url': 'https://www.google-analytics.com/g/co...         ping      NaN   \n",
       "2  {'url': 'https://www.google-analytics.com/g/co...         ping      NaN   \n",
       "4  {'url': 'https://www.google-analytics.com/g/co...         ping      NaN   \n",
       "5  {'url': 'https://www.google-analytics.com/g/co...         ping      NaN   \n",
       "\n",
       "  rank_of_site                                     req_initiators  \\\n",
       "0        50000  https://www.googletagmanager.com/gtag/js?id=G-...   \n",
       "1        50000  https://www.googletagmanager.com/gtag/js?id=G-...   \n",
       "2        50000  https://www.googletagmanager.com/gtag/js?id=G-...   \n",
       "4        50000  https://www.googletagmanager.com/gtag/js?id=G-...   \n",
       "5        50000  https://www.googletagmanager.com/gtag/js?id=G-...   \n",
       "\n",
       "  is_same_party  req_domain_entity  \\\n",
       "0         False             Google   \n",
       "1         False             Google   \n",
       "2         False             Google   \n",
       "4         False             Google   \n",
       "5         False             Google   \n",
       "\n",
       "                                 req_domain_category  is_tracker  \\\n",
       "0  Advertising Analytics Audience Measurement Thi...           1   \n",
       "1  Advertising Analytics Audience Measurement Thi...           1   \n",
       "2  Advertising Analytics Audience Measurement Thi...           1   \n",
       "4  Advertising Analytics Audience Measurement Thi...           1   \n",
       "5  Advertising Analytics Audience Measurement Thi...           1   \n",
       "\n",
       "               hostname  \n",
       "0  selcuksportshd78.com  \n",
       "1  selcuksportshd78.com  \n",
       "2  selcuksportshd78.com  \n",
       "4  selcuksportshd78.com  \n",
       "5  selcuksportshd78.com  \n",
       "\n",
       "[5 rows x 23 columns]"
      ]
     },
     "execution_count": 51,
     "metadata": {},
     "output_type": "execute_result"
    }
   ],
   "source": [
    "tracker_leaks.head()"
   ]
  },
  {
   "cell_type": "markdown",
   "id": "b592eb04",
   "metadata": {},
   "source": [
    "# Crawl Statistics:"
   ]
  },
  {
   "cell_type": "code",
   "execution_count": 52,
   "id": "912dc94d",
   "metadata": {},
   "outputs": [],
   "source": [
    "TOTAL_NUM_SUCC_SITES = 89763"
   ]
  },
  {
   "cell_type": "markdown",
   "id": "3addb739",
   "metadata": {},
   "source": [
    "## Leaks to first parties"
   ]
  },
  {
   "cell_type": "code",
   "execution_count": 53,
   "id": "88ad17be",
   "metadata": {},
   "outputs": [
    {
     "data": {
      "text/plain": [
       "(48355, 0.5386963448191349)"
      ]
     },
     "execution_count": 53,
     "metadata": {},
     "output_type": "execute_result"
    }
   ],
   "source": [
    "df.hostname.nunique(), df.hostname.nunique()/TOTAL_NUM_SUCC_SITES"
   ]
  },
  {
   "cell_type": "markdown",
   "id": "6362dfe3",
   "metadata": {},
   "source": [
    "# Percentage of sites where we detected a leak to third-party domains"
   ]
  },
  {
   "cell_type": "code",
   "execution_count": 54,
   "id": "a0a1d9e0",
   "metadata": {},
   "outputs": [
    {
     "data": {
      "text/plain": [
       "(47691, 0.5312990875973397)"
      ]
     },
     "execution_count": 54,
     "metadata": {},
     "output_type": "execute_result"
    }
   ],
   "source": [
    "third_party_leaks.hostname.nunique(),third_party_leaks.hostname.nunique()/TOTAL_NUM_SUCC_SITES"
   ]
  },
  {
   "cell_type": "markdown",
   "id": "e2a95a26",
   "metadata": {},
   "source": [
    "# Sample leaks where we detected UA-leaks to third parties (sorted by rank)"
   ]
  },
  {
   "cell_type": "code",
   "execution_count": 55,
   "id": "222c3c8e",
   "metadata": {},
   "outputs": [
    {
     "data": {
      "text/html": [
       "<div>\n",
       "<style scoped>\n",
       "    .dataframe tbody tr th:only-of-type {\n",
       "        vertical-align: middle;\n",
       "    }\n",
       "\n",
       "    .dataframe tbody tr th {\n",
       "        vertical-align: top;\n",
       "    }\n",
       "\n",
       "    .dataframe thead th {\n",
       "        text-align: right;\n",
       "    }\n",
       "</style>\n",
       "<table border=\"1\" class=\"dataframe\">\n",
       "  <thead>\n",
       "    <tr style=\"text-align: right;\">\n",
       "      <th></th>\n",
       "      <th>search</th>\n",
       "      <th>search_type</th>\n",
       "      <th>encoding</th>\n",
       "      <th>leak_type</th>\n",
       "      <th>final_url</th>\n",
       "      <th>final_url_domain</th>\n",
       "      <th>initial_url</th>\n",
       "      <th>initial_url_domain</th>\n",
       "      <th>third_party_req</th>\n",
       "      <th>req_has_third_party_initiator</th>\n",
       "      <th>...</th>\n",
       "      <th>request</th>\n",
       "      <th>request_type</th>\n",
       "      <th>category</th>\n",
       "      <th>rank_of_site</th>\n",
       "      <th>req_initiators</th>\n",
       "      <th>is_same_party</th>\n",
       "      <th>req_domain_entity</th>\n",
       "      <th>req_domain_category</th>\n",
       "      <th>is_tracker</th>\n",
       "      <th>hostname</th>\n",
       "    </tr>\n",
       "  </thead>\n",
       "  <tbody>\n",
       "    <tr>\n",
       "      <th>694633</th>\n",
       "      <td>113.0.5672.63</td>\n",
       "      <td>full_version</td>\n",
       "      <td>urlencode</td>\n",
       "      <td>url_leaks</td>\n",
       "      <td>https://yadongkorea.org/</td>\n",
       "      <td>yadongkorea.org</td>\n",
       "      <td>https://yadongkorea.org/</td>\n",
       "      <td>yadongkorea.org</td>\n",
       "      <td>True</td>\n",
       "      <td>True</td>\n",
       "      <td>...</td>\n",
       "      <td>{'url': 'https://www.google-analytics.com/g/co...</td>\n",
       "      <td>ping</td>\n",
       "      <td>NaN</td>\n",
       "      <td>1000</td>\n",
       "      <td>https://www.googletagmanager.com/gtag/js?id=G-...</td>\n",
       "      <td>False</td>\n",
       "      <td>Google</td>\n",
       "      <td>Advertising Analytics Audience Measurement Thi...</td>\n",
       "      <td>1</td>\n",
       "      <td>yadongkorea.org</td>\n",
       "    </tr>\n",
       "    <tr>\n",
       "      <th>1337322</th>\n",
       "      <td>113.0.5672.63</td>\n",
       "      <td>full_version</td>\n",
       "      <td>urlencode</td>\n",
       "      <td>response_location_leaks</td>\n",
       "      <td>https://www.chinatimes.com/?chdtv</td>\n",
       "      <td>chinatimes.com</td>\n",
       "      <td>https://www.chinatimes.com/</td>\n",
       "      <td>chinatimes.com</td>\n",
       "      <td>True</td>\n",
       "      <td>True</td>\n",
       "      <td>...</td>\n",
       "      <td>{'url': 'https://feed.pghub.io/tag?gdpr=0&amp;gdpr...</td>\n",
       "      <td>document</td>\n",
       "      <td>General News</td>\n",
       "      <td>1000</td>\n",
       "      <td>https://pghub.io/js/pandg-sdk.js</td>\n",
       "      <td>False</td>\n",
       "      <td>NaN</td>\n",
       "      <td>NaN</td>\n",
       "      <td>1</td>\n",
       "      <td>www.chinatimes.com</td>\n",
       "    </tr>\n",
       "    <tr>\n",
       "      <th>194182</th>\n",
       "      <td>113.0.5672.63</td>\n",
       "      <td>full_version</td>\n",
       "      <td>unencoded</td>\n",
       "      <td>post_leaks</td>\n",
       "      <td>https://www.google.com.mx/</td>\n",
       "      <td>google.com.mx</td>\n",
       "      <td>https://www.google.com.mx/</td>\n",
       "      <td>google.com.mx</td>\n",
       "      <td>True</td>\n",
       "      <td>False</td>\n",
       "      <td>...</td>\n",
       "      <td>{'url': 'https://play.google.com/log?format=js...</td>\n",
       "      <td>xhr</td>\n",
       "      <td>Search Engines</td>\n",
       "      <td>1000</td>\n",
       "      <td>https://www.gstatic.com/og/_/js/k=og.qtm.en_US...</td>\n",
       "      <td>True</td>\n",
       "      <td>Google</td>\n",
       "      <td>Ad Motivated Tracking Advertising Online Payme...</td>\n",
       "      <td>1</td>\n",
       "      <td>www.google.com.mx</td>\n",
       "    </tr>\n",
       "    <tr>\n",
       "      <th>595636</th>\n",
       "      <td>113.0.5672.63</td>\n",
       "      <td>full_version</td>\n",
       "      <td>unencoded</td>\n",
       "      <td>url_leaks</td>\n",
       "      <td>https://girlschannel.net/</td>\n",
       "      <td>girlschannel.net</td>\n",
       "      <td>https://girlschannel.net/</td>\n",
       "      <td>girlschannel.net</td>\n",
       "      <td>True</td>\n",
       "      <td>True</td>\n",
       "      <td>...</td>\n",
       "      <td>{'url': 'https://www.google-analytics.com/g/co...</td>\n",
       "      <td>ping</td>\n",
       "      <td>Forum/Bulletin Boards</td>\n",
       "      <td>1000</td>\n",
       "      <td>https://www.googletagmanager.com/gtag/js?id=G-...</td>\n",
       "      <td>False</td>\n",
       "      <td>Google</td>\n",
       "      <td>Advertising Analytics Audience Measurement Thi...</td>\n",
       "      <td>1</td>\n",
       "      <td>girlschannel.net</td>\n",
       "    </tr>\n",
       "    <tr>\n",
       "      <th>276377</th>\n",
       "      <td>113.0.5672.63</td>\n",
       "      <td>full_version</td>\n",
       "      <td>urlencode</td>\n",
       "      <td>url_leaks</td>\n",
       "      <td>https://news.detik.com/</td>\n",
       "      <td>detik.com</td>\n",
       "      <td>https://news.detik.com/</td>\n",
       "      <td>detik.com</td>\n",
       "      <td>True</td>\n",
       "      <td>True</td>\n",
       "      <td>...</td>\n",
       "      <td>{'url': 'https://analytics.google.com/g/collec...</td>\n",
       "      <td>ping</td>\n",
       "      <td>Portal Sites</td>\n",
       "      <td>1000</td>\n",
       "      <td>https://www.googletagmanager.com/gtag/js?id=G-...</td>\n",
       "      <td>False</td>\n",
       "      <td>Google</td>\n",
       "      <td>Ad Motivated Tracking Advertising Online Payme...</td>\n",
       "      <td>1</td>\n",
       "      <td>news.detik.com</td>\n",
       "    </tr>\n",
       "  </tbody>\n",
       "</table>\n",
       "<p>5 rows × 23 columns</p>\n",
       "</div>"
      ],
      "text/plain": [
       "                search   search_type   encoding                leak_type  \\\n",
       "694633   113.0.5672.63  full_version  urlencode                url_leaks   \n",
       "1337322  113.0.5672.63  full_version  urlencode  response_location_leaks   \n",
       "194182   113.0.5672.63  full_version  unencoded               post_leaks   \n",
       "595636   113.0.5672.63  full_version  unencoded                url_leaks   \n",
       "276377   113.0.5672.63  full_version  urlencode                url_leaks   \n",
       "\n",
       "                                 final_url  final_url_domain  \\\n",
       "694633            https://yadongkorea.org/   yadongkorea.org   \n",
       "1337322  https://www.chinatimes.com/?chdtv    chinatimes.com   \n",
       "194182          https://www.google.com.mx/     google.com.mx   \n",
       "595636           https://girlschannel.net/  girlschannel.net   \n",
       "276377             https://news.detik.com/         detik.com   \n",
       "\n",
       "                         initial_url initial_url_domain  third_party_req  \\\n",
       "694633      https://yadongkorea.org/    yadongkorea.org             True   \n",
       "1337322  https://www.chinatimes.com/     chinatimes.com             True   \n",
       "194182    https://www.google.com.mx/      google.com.mx             True   \n",
       "595636     https://girlschannel.net/   girlschannel.net             True   \n",
       "276377       https://news.detik.com/          detik.com             True   \n",
       "\n",
       "         req_has_third_party_initiator  ...  \\\n",
       "694633                            True  ...   \n",
       "1337322                           True  ...   \n",
       "194182                           False  ...   \n",
       "595636                            True  ...   \n",
       "276377                            True  ...   \n",
       "\n",
       "                                                   request request_type  \\\n",
       "694633   {'url': 'https://www.google-analytics.com/g/co...         ping   \n",
       "1337322  {'url': 'https://feed.pghub.io/tag?gdpr=0&gdpr...     document   \n",
       "194182   {'url': 'https://play.google.com/log?format=js...          xhr   \n",
       "595636   {'url': 'https://www.google-analytics.com/g/co...         ping   \n",
       "276377   {'url': 'https://analytics.google.com/g/collec...         ping   \n",
       "\n",
       "                       category rank_of_site  \\\n",
       "694633                      NaN         1000   \n",
       "1337322            General News         1000   \n",
       "194182           Search Engines         1000   \n",
       "595636    Forum/Bulletin Boards         1000   \n",
       "276377             Portal Sites         1000   \n",
       "\n",
       "                                            req_initiators is_same_party  \\\n",
       "694633   https://www.googletagmanager.com/gtag/js?id=G-...         False   \n",
       "1337322                   https://pghub.io/js/pandg-sdk.js         False   \n",
       "194182   https://www.gstatic.com/og/_/js/k=og.qtm.en_US...          True   \n",
       "595636   https://www.googletagmanager.com/gtag/js?id=G-...         False   \n",
       "276377   https://www.googletagmanager.com/gtag/js?id=G-...         False   \n",
       "\n",
       "         req_domain_entity                                req_domain_category  \\\n",
       "694633              Google  Advertising Analytics Audience Measurement Thi...   \n",
       "1337322                NaN                                                NaN   \n",
       "194182              Google  Ad Motivated Tracking Advertising Online Payme...   \n",
       "595636              Google  Advertising Analytics Audience Measurement Thi...   \n",
       "276377              Google  Ad Motivated Tracking Advertising Online Payme...   \n",
       "\n",
       "         is_tracker            hostname  \n",
       "694633            1     yadongkorea.org  \n",
       "1337322           1  www.chinatimes.com  \n",
       "194182            1   www.google.com.mx  \n",
       "595636            1    girlschannel.net  \n",
       "276377            1      news.detik.com  \n",
       "\n",
       "[5 rows x 23 columns]"
      ]
     },
     "execution_count": 55,
     "metadata": {},
     "output_type": "execute_result"
    }
   ],
   "source": [
    "third_party_leaks.sort_values(by='rank_of_site', ascending=True).drop_duplicates('hostname').head()"
   ]
  },
  {
   "cell_type": "markdown",
   "id": "8192fef8",
   "metadata": {},
   "source": [
    "# Most popular third-party domains"
   ]
  },
  {
   "cell_type": "code",
   "execution_count": 56,
   "id": "a4904ee7",
   "metadata": {},
   "outputs": [],
   "source": [
    "popular_third_party_domains = third_party_leaks.drop_duplicates(['hostname', 'request_url']).request_url_domain.value_counts()"
   ]
  },
  {
   "cell_type": "code",
   "execution_count": 57,
   "id": "b790449e",
   "metadata": {},
   "outputs": [
    {
     "data": {
      "text/plain": [
       "doubleclick.net          76953\n",
       "google-analytics.com     55639\n",
       "google.com               45943\n",
       "googlesyndication.com    36431\n",
       "crwdcntrl.net             5197\n",
       "Name: request_url_domain, dtype: int64"
      ]
     },
     "execution_count": 57,
     "metadata": {},
     "output_type": "execute_result"
    }
   ],
   "source": [
    "popular_third_party_domains.head()"
   ]
  },
  {
   "cell_type": "markdown",
   "id": "3ed0e696",
   "metadata": {},
   "source": [
    "# Third-Party Domain Categories"
   ]
  },
  {
   "cell_type": "code",
   "execution_count": 58,
   "id": "b4ac57dc",
   "metadata": {},
   "outputs": [
    {
     "name": "stdout",
     "output_type": "stream",
     "text": [
      "Domain:  doubleclick.net # Distinct Req: 76953 # Distinct Sites 14999 Category:  Ad Motivated Tracking Advertis Owner:  Google \n",
      "\n",
      "Domain:  google-analytics.com # Distinct Req: 55639 # Distinct Sites 27225 Category:  Advertising Analytics Audience Owner:  Google \n",
      "\n",
      "Domain:  google.com # Distinct Req: 45943 # Distinct Sites 17058 Category:  Ad Motivated Tracking Advertis Owner:  Google \n",
      "\n",
      "Domain:  googlesyndication.com # Distinct Req: 36431 # Distinct Sites 12271 Category:  Ad Motivated Tracking Advertis Owner:  Google \n",
      "\n",
      "Domain:  crwdcntrl.net # Distinct Req: 5197 # Distinct Sites 4819 Category:  Ad Motivated Tracking Advertis Owner:  Lotame Solutions \n",
      "\n"
     ]
    }
   ],
   "source": [
    "for i, v in popular_third_party_domains.head().items():\n",
    "    if i in tracker_category_dict:\n",
    "        print('Domain: ', i,'# Distinct Req:', v,'# Distinct Sites',len(third_party_leaks[third_party_leaks.request_url_domain==i].drop_duplicates('initial_url')),'Category: ', tracker_category_dict[i][0:30], 'Owner: ', tracker_owner_dict[i][0:20],'\\n')\n",
    "    else:\n",
    "        print('Domain', i,'# Distinct Req:', v,'# Distinct Sites',len(third_party_leaks[third_party_leaks.request_url_domain==i].drop_duplicates('initial_url')),'\\n')"
   ]
  },
  {
   "cell_type": "markdown",
   "id": "eefe1b2b",
   "metadata": {},
   "source": [
    "# Percentage of sites where we detected a leak to tracker domains"
   ]
  },
  {
   "cell_type": "code",
   "execution_count": 59,
   "id": "a0801c3f",
   "metadata": {},
   "outputs": [
    {
     "data": {
      "text/plain": [
       "(47285, 0.5267760658623264)"
      ]
     },
     "execution_count": 59,
     "metadata": {},
     "output_type": "execute_result"
    }
   ],
   "source": [
    "tracker_leaks.hostname.nunique(),tracker_leaks.hostname.nunique()/TOTAL_NUM_SUCC_SITES"
   ]
  },
  {
   "cell_type": "markdown",
   "id": "de6362b3",
   "metadata": {},
   "source": [
    "# Sites where we detected UA-leak to tracker domains (sorted by rank)"
   ]
  },
  {
   "cell_type": "code",
   "execution_count": 60,
   "id": "ae8bf476",
   "metadata": {},
   "outputs": [
    {
     "data": {
      "text/plain": [
       "39703         tabelog.com\n",
       "1642479    serviporno.com\n",
       "1380609       pornhub.com\n",
       "901171        discogs.com\n",
       "679713            sex.com\n",
       "1645024            999.md\n",
       "586024              o2.pl\n",
       "1637606       baji999.com\n",
       "1386520     tmohentai.com\n",
       "1636046          tenki.jp\n",
       "Name: initial_url_domain, dtype: object"
      ]
     },
     "execution_count": 60,
     "metadata": {},
     "output_type": "execute_result"
    }
   ],
   "source": [
    "tracker_leaks.sort_values(by='rank_of_site', ascending=True).drop_duplicates('initial_url_domain').initial_url_domain.head(10)"
   ]
  },
  {
   "cell_type": "markdown",
   "id": "be6ea80c",
   "metadata": {},
   "source": [
    "# Most popular tracker domains"
   ]
  },
  {
   "cell_type": "code",
   "execution_count": 61,
   "id": "1ab5002e",
   "metadata": {},
   "outputs": [],
   "source": [
    "popular_tracker_domains = tracker_leaks.drop_duplicates(['hostname']).request_url_domain.value_counts()"
   ]
  },
  {
   "cell_type": "code",
   "execution_count": 62,
   "id": "5c0a2b26",
   "metadata": {},
   "outputs": [
    {
     "data": {
      "text/plain": [
       "google-analytics.com     22517\n",
       "google.com                9325\n",
       "doubleclick.net           8853\n",
       "googlesyndication.com     2017\n",
       "crwdcntrl.net              985\n",
       "Name: request_url_domain, dtype: int64"
      ]
     },
     "execution_count": 62,
     "metadata": {},
     "output_type": "execute_result"
    }
   ],
   "source": [
    "popular_tracker_domains.head()"
   ]
  },
  {
   "cell_type": "markdown",
   "id": "f5ab8bef",
   "metadata": {},
   "source": [
    "# Tracker Categories"
   ]
  },
  {
   "cell_type": "code",
   "execution_count": 63,
   "id": "f99d39f2",
   "metadata": {},
   "outputs": [
    {
     "name": "stdout",
     "output_type": "stream",
     "text": [
      "Domain:  google-analytics.com # Distinct Req: 22517 # Distinct Sites 27225 Category:  Advertising Analytics Audience Owner:  Google \n",
      "\n",
      "Domain:  google.com # Distinct Req: 9325 # Distinct Sites 17058 Category:  Ad Motivated Tracking Advertis Owner:  Google \n",
      "\n",
      "Domain:  doubleclick.net # Distinct Req: 8853 # Distinct Sites 14999 Category:  Ad Motivated Tracking Advertis Owner:  Google \n",
      "\n",
      "Domain:  googlesyndication.com # Distinct Req: 2017 # Distinct Sites 12271 Category:  Ad Motivated Tracking Advertis Owner:  Google \n",
      "\n",
      "Domain:  crwdcntrl.net # Distinct Req: 985 # Distinct Sites 4819 Category:  Ad Motivated Tracking Advertis Owner:  Lotame Solutions \n",
      "\n"
     ]
    }
   ],
   "source": [
    "for i, v in popular_tracker_domains.head().items():\n",
    "    if i in tracker_category_dict:\n",
    "        print('Domain: ', i,'# Distinct Req:', v,'# Distinct Sites',len(tracker_leaks[tracker_leaks.request_url_domain==i].drop_duplicates('initial_url')),'Category: ', tracker_category_dict[i][0:30], 'Owner: ', tracker_owner_dict[i][0:30],'\\n')\n",
    "    else:\n",
    "        print('Domain', i,'# Distinct Req:', v,'# Distinct Sites',len(tracker_leaks[tracker_leaks.request_url_domain==i].drop_duplicates('initial_url')),'\\n')"
   ]
  },
  {
   "cell_type": "markdown",
   "id": "8a6b5122",
   "metadata": {},
   "source": [
    "# Most popular categories that we detected UA-leak"
   ]
  },
  {
   "cell_type": "code",
   "execution_count": 64,
   "id": "bf30483b",
   "metadata": {},
   "outputs": [
    {
     "data": {
      "text/plain": [
       " General News           7671\n",
       " Entertainment          3320\n",
       " Business               2460\n",
       " Education/Reference    2364\n",
       " Online Shopping        2164\n",
       "Name: category, dtype: int64"
      ]
     },
     "execution_count": 64,
     "metadata": {},
     "output_type": "execute_result"
    }
   ],
   "source": [
    "tracker_leaks.drop_duplicates(['hostname', 'request_url_domain']).category.value_counts().head()"
   ]
  },
  {
   "cell_type": "markdown",
   "id": "2ac67100",
   "metadata": {},
   "source": [
    "# Most popular tracker categories that we detected UA-leak"
   ]
  },
  {
   "cell_type": "code",
   "execution_count": 65,
   "id": "d708501a",
   "metadata": {},
   "outputs": [],
   "source": [
    "distinct_reqs = third_party_leaks.drop_duplicates(['hostname','request_url_domain'])"
   ]
  },
  {
   "cell_type": "code",
   "execution_count": 66,
   "id": "381b3797",
   "metadata": {},
   "outputs": [],
   "source": [
    "categories_num_dict = defaultdict(set)\n",
    "for index, row in distinct_reqs.iterrows():\n",
    "    script_domain = row['request_url_domain']\n",
    "    site_domain = row['initial_url_domain']\n",
    "    for category, domains in category_domains_dict.items():\n",
    "        if script_domain in  domains:\n",
    "            categories_num_dict[category].add(site_domain)"
   ]
  },
  {
   "cell_type": "code",
   "execution_count": 67,
   "id": "72c5c706",
   "metadata": {},
   "outputs": [],
   "source": [
    "sorted_list = sorted(categories_num_dict.items(), key=lambda x:len(x[1]),reverse=True)"
   ]
  },
  {
   "cell_type": "code",
   "execution_count": 68,
   "id": "81fbd528",
   "metadata": {},
   "outputs": [
    {
     "name": "stdout",
     "output_type": "stream",
     "text": [
      "Advertising 41124\n",
      "Audience Measurement 27526\n",
      "Ad Motivated Tracking 27253\n",
      "Third-Party Analytics Marketing 26220\n",
      "Analytics 25509\n",
      "CDN 15512\n",
      "Online Payment 15084\n",
      "Social - Share 2471\n",
      "Embedded Content 2154\n",
      "Action Pixels 625\n",
      "Ad Fraud 337\n",
      "Session Replay 205\n",
      "Federated Login 138\n",
      "Social Network 126\n",
      "Badge 95\n",
      "Social - Comment 84\n",
      "SSO 12\n",
      "Non-Tracking 1\n"
     ]
    }
   ],
   "source": [
    "for i in sorted_list:\n",
    "    print(i[0],len(i[1]))"
   ]
  },
  {
   "cell_type": "markdown",
   "id": "ab723097",
   "metadata": {},
   "source": [
    "# Which information was leaked most?"
   ]
  },
  {
   "cell_type": "code",
   "execution_count": 69,
   "id": "9373b4c1",
   "metadata": {},
   "outputs": [
    {
     "data": {
      "text/plain": [
       "full_version        47046\n",
       "platform_version    45404\n",
       "Name: search_type, dtype: int64"
      ]
     },
     "execution_count": 69,
     "metadata": {},
     "output_type": "execute_result"
    }
   ],
   "source": [
    "tracker_leaks.drop_duplicates(['hostname','search_type']).search_type.value_counts().head()"
   ]
  },
  {
   "cell_type": "code",
   "execution_count": 70,
   "id": "bcf7f6cf",
   "metadata": {},
   "outputs": [
    {
     "data": {
      "text/html": [
       "<div>\n",
       "<style scoped>\n",
       "    .dataframe tbody tr th:only-of-type {\n",
       "        vertical-align: middle;\n",
       "    }\n",
       "\n",
       "    .dataframe tbody tr th {\n",
       "        vertical-align: top;\n",
       "    }\n",
       "\n",
       "    .dataframe thead th {\n",
       "        text-align: right;\n",
       "    }\n",
       "</style>\n",
       "<table border=\"1\" class=\"dataframe\">\n",
       "  <thead>\n",
       "    <tr style=\"text-align: right;\">\n",
       "      <th></th>\n",
       "      <th>search</th>\n",
       "      <th>search_type</th>\n",
       "      <th>encoding</th>\n",
       "      <th>leak_type</th>\n",
       "      <th>final_url</th>\n",
       "      <th>final_url_domain</th>\n",
       "      <th>initial_url</th>\n",
       "      <th>initial_url_domain</th>\n",
       "      <th>third_party_req</th>\n",
       "      <th>req_has_third_party_initiator</th>\n",
       "      <th>...</th>\n",
       "      <th>request</th>\n",
       "      <th>request_type</th>\n",
       "      <th>category</th>\n",
       "      <th>rank_of_site</th>\n",
       "      <th>req_initiators</th>\n",
       "      <th>is_same_party</th>\n",
       "      <th>req_domain_entity</th>\n",
       "      <th>req_domain_category</th>\n",
       "      <th>is_tracker</th>\n",
       "      <th>hostname</th>\n",
       "    </tr>\n",
       "  </thead>\n",
       "  <tbody>\n",
       "    <tr>\n",
       "      <th>39703</th>\n",
       "      <td>113.0.5672.63</td>\n",
       "      <td>full_version</td>\n",
       "      <td>urlencode-base64</td>\n",
       "      <td>url_leaks</td>\n",
       "      <td>https://tabelog.com/</td>\n",
       "      <td>tabelog.com</td>\n",
       "      <td>https://s.tabelog.com/</td>\n",
       "      <td>tabelog.com</td>\n",
       "      <td>True</td>\n",
       "      <td>True</td>\n",
       "      <td>...</td>\n",
       "      <td>{'url': 'https://securepubads.g.doubleclick.ne...</td>\n",
       "      <td>fetch</td>\n",
       "      <td>Restaurants, Blogs/Wiki</td>\n",
       "      <td>1000</td>\n",
       "      <td>https://www.googletagservices.com/activeview/j...</td>\n",
       "      <td>False</td>\n",
       "      <td>Google</td>\n",
       "      <td>Ad Motivated Tracking Advertising</td>\n",
       "      <td>1</td>\n",
       "      <td>s.tabelog.com</td>\n",
       "    </tr>\n",
       "    <tr>\n",
       "      <th>1642479</th>\n",
       "      <td>5.15.0</td>\n",
       "      <td>platform_version</td>\n",
       "      <td>unencoded</td>\n",
       "      <td>url_leaks</td>\n",
       "      <td>https://www.serviporno.com/</td>\n",
       "      <td>serviporno.com</td>\n",
       "      <td>https://www.serviporno.com/</td>\n",
       "      <td>serviporno.com</td>\n",
       "      <td>True</td>\n",
       "      <td>True</td>\n",
       "      <td>...</td>\n",
       "      <td>{'url': 'https://www.google-analytics.com/g/co...</td>\n",
       "      <td>ping</td>\n",
       "      <td>Pornography</td>\n",
       "      <td>1000</td>\n",
       "      <td>https://www.googletagmanager.com/gtag/js?id=G-...</td>\n",
       "      <td>False</td>\n",
       "      <td>Google</td>\n",
       "      <td>Advertising Analytics Audience Measurement Thi...</td>\n",
       "      <td>1</td>\n",
       "      <td>www.serviporno.com</td>\n",
       "    </tr>\n",
       "    <tr>\n",
       "      <th>1380609</th>\n",
       "      <td>113.0.5672.63</td>\n",
       "      <td>full_version</td>\n",
       "      <td>urlencode</td>\n",
       "      <td>url_leaks</td>\n",
       "      <td>https://it.pornhub.com/</td>\n",
       "      <td>pornhub.com</td>\n",
       "      <td>https://it.pornhub.com/</td>\n",
       "      <td>pornhub.com</td>\n",
       "      <td>True</td>\n",
       "      <td>True</td>\n",
       "      <td>...</td>\n",
       "      <td>{'url': 'https://www.google-analytics.com/g/co...</td>\n",
       "      <td>ping</td>\n",
       "      <td>Pornography</td>\n",
       "      <td>1000</td>\n",
       "      <td>https://www.googletagmanager.com/gtag/js?id=G-...</td>\n",
       "      <td>False</td>\n",
       "      <td>Google</td>\n",
       "      <td>Advertising Analytics Audience Measurement Thi...</td>\n",
       "      <td>1</td>\n",
       "      <td>it.pornhub.com</td>\n",
       "    </tr>\n",
       "    <tr>\n",
       "      <th>901171</th>\n",
       "      <td>5.15.0</td>\n",
       "      <td>platform_version</td>\n",
       "      <td>unencoded</td>\n",
       "      <td>post_leaks</td>\n",
       "      <td>https://www.discogs.com/</td>\n",
       "      <td>discogs.com</td>\n",
       "      <td>https://www.discogs.com/</td>\n",
       "      <td>discogs.com</td>\n",
       "      <td>True</td>\n",
       "      <td>False</td>\n",
       "      <td>...</td>\n",
       "      <td>{'url': 'https://id5-sync.com/g/v2/488.json', ...</td>\n",
       "      <td>xhr</td>\n",
       "      <td>Entertainment</td>\n",
       "      <td>1000</td>\n",
       "      <td>https://st.discogs.com/b2de82f03ebb0f5acd8e2ec...</td>\n",
       "      <td>False</td>\n",
       "      <td>ID5</td>\n",
       "      <td>Ad Motivated Tracking Advertising</td>\n",
       "      <td>1</td>\n",
       "      <td>www.discogs.com</td>\n",
       "    </tr>\n",
       "    <tr>\n",
       "      <th>679713</th>\n",
       "      <td>113.0.5672.63</td>\n",
       "      <td>full_version</td>\n",
       "      <td>unencoded</td>\n",
       "      <td>url_leaks</td>\n",
       "      <td>https://www.sex.com/</td>\n",
       "      <td>sex.com</td>\n",
       "      <td>https://www.sex.com/</td>\n",
       "      <td>sex.com</td>\n",
       "      <td>True</td>\n",
       "      <td>True</td>\n",
       "      <td>...</td>\n",
       "      <td>{'url': 'https://analytics.cdn.live/matomo.php...</td>\n",
       "      <td>ping</td>\n",
       "      <td>Pornography</td>\n",
       "      <td>1000</td>\n",
       "      <td>https://analytics.cdn.live/matomo.js</td>\n",
       "      <td>False</td>\n",
       "      <td>NaN</td>\n",
       "      <td>NaN</td>\n",
       "      <td>1</td>\n",
       "      <td>www.sex.com</td>\n",
       "    </tr>\n",
       "  </tbody>\n",
       "</table>\n",
       "<p>5 rows × 23 columns</p>\n",
       "</div>"
      ],
      "text/plain": [
       "                search       search_type          encoding   leak_type  \\\n",
       "39703    113.0.5672.63      full_version  urlencode-base64   url_leaks   \n",
       "1642479         5.15.0  platform_version         unencoded   url_leaks   \n",
       "1380609  113.0.5672.63      full_version         urlencode   url_leaks   \n",
       "901171          5.15.0  platform_version         unencoded  post_leaks   \n",
       "679713   113.0.5672.63      full_version         unencoded   url_leaks   \n",
       "\n",
       "                           final_url final_url_domain  \\\n",
       "39703           https://tabelog.com/      tabelog.com   \n",
       "1642479  https://www.serviporno.com/   serviporno.com   \n",
       "1380609      https://it.pornhub.com/      pornhub.com   \n",
       "901171      https://www.discogs.com/      discogs.com   \n",
       "679713          https://www.sex.com/          sex.com   \n",
       "\n",
       "                         initial_url initial_url_domain  third_party_req  \\\n",
       "39703         https://s.tabelog.com/        tabelog.com             True   \n",
       "1642479  https://www.serviporno.com/     serviporno.com             True   \n",
       "1380609      https://it.pornhub.com/        pornhub.com             True   \n",
       "901171      https://www.discogs.com/        discogs.com             True   \n",
       "679713          https://www.sex.com/            sex.com             True   \n",
       "\n",
       "         req_has_third_party_initiator  ...  \\\n",
       "39703                             True  ...   \n",
       "1642479                           True  ...   \n",
       "1380609                           True  ...   \n",
       "901171                           False  ...   \n",
       "679713                            True  ...   \n",
       "\n",
       "                                                   request request_type  \\\n",
       "39703    {'url': 'https://securepubads.g.doubleclick.ne...        fetch   \n",
       "1642479  {'url': 'https://www.google-analytics.com/g/co...         ping   \n",
       "1380609  {'url': 'https://www.google-analytics.com/g/co...         ping   \n",
       "901171   {'url': 'https://id5-sync.com/g/v2/488.json', ...          xhr   \n",
       "679713   {'url': 'https://analytics.cdn.live/matomo.php...         ping   \n",
       "\n",
       "                         category rank_of_site  \\\n",
       "39703     Restaurants, Blogs/Wiki         1000   \n",
       "1642479               Pornography         1000   \n",
       "1380609               Pornography         1000   \n",
       "901171              Entertainment         1000   \n",
       "679713                Pornography         1000   \n",
       "\n",
       "                                            req_initiators is_same_party  \\\n",
       "39703    https://www.googletagservices.com/activeview/j...         False   \n",
       "1642479  https://www.googletagmanager.com/gtag/js?id=G-...         False   \n",
       "1380609  https://www.googletagmanager.com/gtag/js?id=G-...         False   \n",
       "901171   https://st.discogs.com/b2de82f03ebb0f5acd8e2ec...         False   \n",
       "679713                https://analytics.cdn.live/matomo.js         False   \n",
       "\n",
       "         req_domain_entity                                req_domain_category  \\\n",
       "39703               Google                  Ad Motivated Tracking Advertising   \n",
       "1642479             Google  Advertising Analytics Audience Measurement Thi...   \n",
       "1380609             Google  Advertising Analytics Audience Measurement Thi...   \n",
       "901171                 ID5                  Ad Motivated Tracking Advertising   \n",
       "679713                 NaN                                                NaN   \n",
       "\n",
       "         is_tracker            hostname  \n",
       "39703             1       s.tabelog.com  \n",
       "1642479           1  www.serviporno.com  \n",
       "1380609           1      it.pornhub.com  \n",
       "901171            1     www.discogs.com  \n",
       "679713            1         www.sex.com  \n",
       "\n",
       "[5 rows x 23 columns]"
      ]
     },
     "execution_count": 70,
     "metadata": {},
     "output_type": "execute_result"
    }
   ],
   "source": [
    "tracker_leaks.sort_values(by='rank_of_site', ascending=True).drop_duplicates('hostname').head()"
   ]
  },
  {
   "cell_type": "code",
   "execution_count": 71,
   "id": "ce389706",
   "metadata": {},
   "outputs": [],
   "source": [
    "leak_set = set(df.hostname.unique())"
   ]
  },
  {
   "cell_type": "code",
   "execution_count": 72,
   "id": "8319dd17",
   "metadata": {},
   "outputs": [],
   "source": [
    "api_call_set = set(api_calls[(api_calls.description=='NavigatorUAData.getHighEntropyValues')].hostname.unique())"
   ]
  },
  {
   "cell_type": "code",
   "execution_count": 73,
   "id": "0aadca17",
   "metadata": {},
   "outputs": [
    {
     "data": {
      "text/plain": [
       "(48355, 53148)"
      ]
     },
     "execution_count": 73,
     "metadata": {},
     "output_type": "execute_result"
    }
   ],
   "source": [
    "len(leak_set),len(api_call_set)"
   ]
  },
  {
   "cell_type": "code",
   "execution_count": 74,
   "id": "9ba07336",
   "metadata": {},
   "outputs": [
    {
     "data": {
      "text/plain": [
       "72"
      ]
     },
     "execution_count": 74,
     "metadata": {},
     "output_type": "execute_result"
    }
   ],
   "source": [
    "len(leak_set.difference(api_call_set))"
   ]
  },
  {
   "cell_type": "code",
   "execution_count": 75,
   "id": "f94f34a3",
   "metadata": {},
   "outputs": [
    {
     "data": {
      "text/plain": [
       "4865"
      ]
     },
     "execution_count": 75,
     "metadata": {},
     "output_type": "execute_result"
    }
   ],
   "source": [
    "len(api_call_set.difference(leak_set))"
   ]
  },
  {
   "cell_type": "code",
   "execution_count": null,
   "id": "960c87d2",
   "metadata": {},
   "outputs": [],
   "source": []
  }
 ],
 "metadata": {
  "kernelspec": {
   "display_name": "Python 3 (ipykernel)",
   "language": "python",
   "name": "python3"
  },
  "language_info": {
   "codemirror_mode": {
    "name": "ipython",
    "version": 3
   },
   "file_extension": ".py",
   "mimetype": "text/x-python",
   "name": "python",
   "nbconvert_exporter": "python",
   "pygments_lexer": "ipython3",
   "version": "3.8.10"
  }
 },
 "nbformat": 4,
 "nbformat_minor": 5
}
